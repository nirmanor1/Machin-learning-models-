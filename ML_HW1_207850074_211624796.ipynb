{
 "cells":[
  {
   "cell_type":"markdown",
   "source":[
    "### ML Homework 1 | 207850074 | 211624796\n",
    "importing libraries and read data file:"
   ],
   "attachments":{},
   "metadata":{
    "datalore":{
     "node_id":"p7vNVY3nCME6ILqdwFcE9r",
     "type":"MD",
     "hide_input_from_viewers":true,
     "hide_output_from_viewers":true
    }
   }
  },
  {
   "cell_type":"code",
   "source":[
    "import pandas as pd\n",
    "import numpy as np\n",
    "import matplotlib.pyplot as plt\n",
    "from sklearn.preprocessing import LabelEncoder\n",
    "from sklearn.preprocessing import StandardScaler\n",
    "\n",
    "data= pd.read_csv('assignment-1-data.csv')\n",
    "df= pd.read_csv('assignment-1-data.csv')"
   ],
   "execution_count":3,
   "outputs":[],
   "metadata":{
    "datalore":{
     "node_id":"jqyxo9qLvqbujW7vIKxdSB",
     "type":"CODE",
     "hide_input_from_viewers":true,
     "hide_output_from_viewers":true
    }
   }
  },
  {
   "cell_type":"markdown",
   "source":[
    "# Section A | Coding"
   ],
   "attachments":{},
   "metadata":{
    "datalore":{
     "node_id":"CSbaGnT5B50cl1LuqToBPb",
     "type":"MD",
     "hide_input_from_viewers":true,
     "hide_output_from_viewers":true
    }
   }
  },
  {
   "cell_type":"markdown",
   "source":[
    "##  Decision Tree Classifier\n",
    "Our implementation uses recursive splitting based on Gini index to build and train the decision tree, and supports prediction by traversing the constructed tree:"
   ],
   "attachments":{},
   "metadata":{
    "datalore":{
     "node_id":"Px9rynAFMewsF5Ypy9yLxM",
     "type":"MD",
     "hide_input_from_viewers":true,
     "hide_output_from_viewers":true
    }
   }
  },
  {
   "cell_type":"code",
   "source":[
    "#Decision Tree Classifier\n",
    "\n",
    "class Node():\n",
    "    def __init__(self, feature_index=None, threshold=None, left=None, right=None, info_gain=None, value=None):\n",
    "        self.feature_index = feature_index\n",
    "        self.threshold = threshold\n",
    "        self.left = left\n",
    "        self.right = right\n",
    "        self.info_gain = info_gain\n",
    "        self.value = value\n",
    "\n",
    "class DecisionTreeClassifier():\n",
    "    def __init__(self, min_samples_split=2, max_depth=2):\n",
    "        self.root = None\n",
    "        self.min_samples_split = min_samples_split\n",
    "        self.max_depth = max_depth\n",
    "        \n",
    "    def build_tree(self, dataset, curr_depth=0):\n",
    "        X, Y = dataset[:,:-1], dataset[:,-1]\n",
    "        num_samples, num_features = np.shape(X)\n",
    "        if num_samples >= self.min_samples_split and curr_depth <= self.max_depth:\n",
    "            best_split = self.get_best_split(dataset, num_samples, num_features)\n",
    "            if best_split and best_split[\"info_gain\"] > 0:\n",
    "                left_subtree = self.build_tree(best_split[\"dataset_left\"], curr_depth + 1)\n",
    "                right_subtree = self.build_tree(best_split[\"dataset_right\"], curr_depth + 1)\n",
    "                return Node(best_split[\"feature_index\"], best_split[\"threshold\"], \n",
    "                            left_subtree, right_subtree, best_split[\"info_gain\"])\n",
    "        leaf_value = self.calculate_leaf_value(Y)\n",
    "        return Node(value=leaf_value)\n",
    "    \n",
    "    # Finds the best split for the dataset based on the Gini index.\n",
    "    def get_best_split(self, dataset, num_samples, num_features):\n",
    "        best_split = {}\n",
    "        min_gini = float(\"inf\")\n",
    "        for feature_index in range(num_features):\n",
    "            feature_values = dataset[:, feature_index]\n",
    "            possible_thresholds = np.unique(feature_values)\n",
    "            for threshold in possible_thresholds:\n",
    "                dataset_left, dataset_right = self.split(dataset, feature_index, threshold)\n",
    "                if len(dataset_left) > 0 and len(dataset_right) > 0:\n",
    "                    y, left_y, right_y = dataset[:, -1], dataset_left[:, -1], dataset_right[:, -1]\n",
    "                    curr_gini = self.weighted_gini_index(left_y, right_y)\n",
    "                    if curr_gini < min_gini:\n",
    "                        best_split = {\n",
    "                            \"feature_index\": feature_index,\n",
    "                            \"threshold\": threshold,\n",
    "                            \"dataset_left\": dataset_left,\n",
    "                            \"dataset_right\": dataset_right,\n",
    "                            \"info_gain\": min_gini - curr_gini\n",
    "                        }\n",
    "                        min_gini = curr_gini\n",
    "        return best_split if best_split else None\n",
    "\n",
    "    # Calculates the weighted Gini index for a split.\n",
    "    def weighted_gini_index(self, left_y, right_y):\n",
    "        num_left = len(left_y)\n",
    "        num_right = len(right_y)\n",
    "        num_total = num_left + num_right\n",
    "        weight_left = num_left \/ num_total\n",
    "        weight_right = num_right \/ num_total\n",
    "        weighted_gini = (weight_left * self.gini_index(left_y)) + (weight_right * self.gini_index(right_y))\n",
    "        return weighted_gini\n",
    "\n",
    "\n",
    "    def split(self, dataset, feature_index, threshold):\n",
    "        dataset_left = np.array([row for row in dataset if row[feature_index] <= threshold])\n",
    "        dataset_right = np.array([row for row in dataset if row[feature_index] > threshold])\n",
    "        return dataset_left, dataset_right\n",
    "    \n",
    "    \n",
    "    def gini_index(self, y):\n",
    "        class_labels, counts = np.unique(y, return_counts=True)\n",
    "        gini = 1.0 - sum((count \/ len(y)) ** 2 for count in counts)\n",
    "        return gini\n",
    "        \n",
    "    def calculate_leaf_value(self, Y):\n",
    "        return np.bincount(Y.astype(int)).argmax()\n",
    "    \n",
    "    \n",
    "    def fit(self, X, Y):\n",
    "        Y = Y.reshape(-1, 1)  # Reshape Y to ensure it's 2D\n",
    "        dataset = np.concatenate((X, Y), axis=1)\n",
    "        self.root = self.build_tree(dataset)\n",
    "    \n",
    "    def predict(self, X):\n",
    "        predictions = [self.make_prediction(x, self.root) for x in X]\n",
    "        return predictions\n",
    "    \n",
    "    def make_prediction(self, x, tree):\n",
    "        if tree.value is not None:\n",
    "            return tree.value\n",
    "        feature_val = x[tree.feature_index]\n",
    "        if feature_val <= tree.threshold:\n",
    "            return self.make_prediction(x, tree.left)\n",
    "        else:\n",
    "            return self.make_prediction(x, tree.right)\n"
   ],
   "execution_count":4,
   "outputs":[],
   "metadata":{
    "datalore":{
     "node_id":"Zdch5vQAXOLg2uKWgGUHZT",
     "type":"CODE",
     "hide_input_from_viewers":false,
     "hide_output_from_viewers":false,
     "report_properties":{
      "rowId":"mVDBAMPYioQVVZkAMsVjAx"
     }
    }
   }
  },
  {
   "cell_type":"markdown",
   "source":[
    "##  Random Forest Classifier"
   ],
   "attachments":{},
   "metadata":{
    "datalore":{
     "node_id":"aDS9jzc3oVzOrhUWSqeszG",
     "type":"MD",
     "hide_input_from_viewers":true,
     "hide_output_from_viewers":true
    }
   }
  },
  {
   "cell_type":"code",
   "source":[
    "#Random Forest classifier\n",
    "from sklearn.metrics import accuracy_score\n",
    "from collections import Counter\n",
    "\n",
    "\n",
    "class RandomForestClassifier():\n",
    "    def __init__(self, n_estimators=30, min_samples_split=2, max_depth=2, max_features=None):\n",
    "        self.n_estimators = n_estimators\n",
    "        self.min_samples_split = min_samples_split\n",
    "        self.max_depth = max_depth\n",
    "        self.max_features = max_features\n",
    "        self.trees = []\n",
    "    \n",
    "    def fit(self, X, Y):\n",
    "        self.trees = []\n",
    "        for _ in range(self.n_estimators):\n",
    "            # Bootstrap sample\n",
    "            X_sample, Y_sample = self.bootstrap_sample(X, Y)\n",
    "            # Create a decision tree\n",
    "            tree = DecisionTreeClassifier(\n",
    "                min_samples_split=self.min_samples_split, \n",
    "                max_depth=self.max_depth\n",
    "            )\n",
    "            tree.fit(X_sample, Y_sample)\n",
    "            self.trees.append(tree)\n",
    "    \n",
    "    def bootstrap_sample(self, X, Y):\n",
    "        n_samples = X.shape[0]\n",
    "        indices = np.random.choice(n_samples, n_samples, replace=True)\n",
    "        return X[indices], Y[indices]\n",
    "    \n",
    "    def predict(self, X):\n",
    "        tree_preds = np.array([tree.predict(X) for tree in self.trees])\n",
    "        tree_preds = np.swapaxes(tree_preds, 0, 1)\n",
    "        y_pred = [Counter(tree_pred).most_common(1)[0][0] for tree_pred in tree_preds]\n",
    "        return y_pred"
   ],
   "execution_count":5,
   "outputs":[],
   "metadata":{
    "datalore":{
     "node_id":"MPSATaIDwD64hoiMCRfpVI",
     "type":"CODE",
     "hide_input_from_viewers":false,
     "hide_output_from_viewers":false,
     "report_properties":{
      "rowId":"BSpBLfbEUkrLv5mTeiiKJF"
     }
    }
   }
  },
  {
   "cell_type":"markdown",
   "source":[
    "## Decision Tree Regressor "
   ],
   "attachments":{},
   "metadata":{
    "datalore":{
     "node_id":"W8VMJKDzMbyYmtcyYtUfO6",
     "type":"MD",
     "hide_input_from_viewers":false,
     "hide_output_from_viewers":false,
     "report_properties":{
      "rowId":"4o7GWyZHV3IwoIXINSpHoM"
     }
    }
   }
  },
  {
   "cell_type":"code",
   "source":[
    "#DecisionTreeRegressor\n",
    "class Node():\n",
    "    def __init__(self, feature_index=None, threshold=None, left=None, right=None, info_gain=None, value=None):\n",
    "        self.feature_index = feature_index\n",
    "        self.threshold = threshold\n",
    "        self.left = left\n",
    "        self.right = right\n",
    "        self.info_gain = info_gain\n",
    "        self.value = value\n",
    "\n",
    "class DecisionTreeRegressor():\n",
    "    def __init__(self, min_samples_split=2, max_depth=2):\n",
    "        self.root = None\n",
    "        self.min_samples_split = min_samples_split\n",
    "        self.max_depth = max_depth\n",
    "        \n",
    "    def build_tree(self, dataset, curr_depth=0):\n",
    "        X, Y = dataset[:,:-1], dataset[:,-1]\n",
    "        num_samples, num_features = np.shape(X)\n",
    "        if num_samples >= self.min_samples_split and curr_depth <= self.max_depth:\n",
    "            best_split = self.get_best_split(dataset, num_samples, num_features)\n",
    "            if best_split and best_split[\"info_gain\"] > 0:\n",
    "                left_subtree = self.build_tree(best_split[\"dataset_left\"], curr_depth + 1)\n",
    "                right_subtree = self.build_tree(best_split[\"dataset_right\"], curr_depth + 1)\n",
    "                return Node(best_split[\"feature_index\"], best_split[\"threshold\"], \n",
    "                            left_subtree, right_subtree, best_split[\"info_gain\"])\n",
    "        leaf_value = self.calculate_leaf_value(Y)\n",
    "        return Node(value=leaf_value)\n",
    "    \n",
    "    #Finds the best split for the dataset based on the sum of squared residuals (SSR).\n",
    "    def get_best_split(self, dataset, num_samples, num_features):\n",
    "        best_split = {}\n",
    "        min_ssr = float(\"inf\")\n",
    "        for feature_index in range(num_features):\n",
    "            feature_values = dataset[:, feature_index]\n",
    "            possible_thresholds = np.unique(feature_values)\n",
    "            for threshold in possible_thresholds:\n",
    "                dataset_left, dataset_right = self.split(dataset, feature_index, threshold)\n",
    "                if len(dataset_left) > 0 and len(dataset_right) > 0:\n",
    "                    y, left_y, right_y = dataset[:, -1], dataset_left[:, -1], dataset_right[:, -1]\n",
    "                    curr_ssr = self.weighted_ssr(left_y, right_y)\n",
    "                    if curr_ssr < min_ssr:\n",
    "                        best_split = {\n",
    "                            \"feature_index\": feature_index,\n",
    "                            \"threshold\": threshold,\n",
    "                            \"dataset_left\": dataset_left,\n",
    "                            \"dataset_right\": dataset_right,\n",
    "                            \"info_gain\": self.calculate_info_gain(y, left_y, right_y, curr_ssr)\n",
    "                        }\n",
    "                        min_ssr = curr_ssr\n",
    "        return best_split if best_split else None\n",
    "\n",
    "    def weighted_ssr(self, left_y, right_y):\n",
    "        num_left = len(left_y)\n",
    "        num_right = len(right_y)\n",
    "        num_total = num_left + num_right\n",
    "        weight_left = num_left \/ num_total\n",
    "        weight_right = num_right \/ num_total\n",
    "        weighted_ssr = (weight_left * self.sum_squared_residuals(left_y)) + (weight_right * self.sum_squared_residuals(right_y))\n",
    "        return weighted_ssr\n",
    "\n",
    "    def split(self, dataset, feature_index, threshold):\n",
    "        dataset_left = np.array([row for row in dataset if row[feature_index] <= threshold])\n",
    "        dataset_right = np.array([row for row in dataset if row[feature_index] > threshold])\n",
    "        return dataset_left, dataset_right\n",
    "    \n",
    "    def sum_squared_residuals(self, y):\n",
    "        mean = np.mean(y)\n",
    "        ssr = np.sum((y - mean) ** 2)\n",
    "        return ssr\n",
    "    \n",
    "    def calculate_leaf_value(self, Y):\n",
    "        return np.mean(Y)\n",
    "    \n",
    "    def calculate_info_gain(self, parent, left, right, weighted_ssr):\n",
    "        return np.sum((parent - np.mean(parent)) ** 2) - weighted_ssr\n",
    "    \n",
    "    \n",
    "    def fit(self, X, Y):\n",
    "        Y = Y.reshape(-1, 1)  # Reshape Y to ensure it's 2D\n",
    "        dataset = np.concatenate((X, Y), axis=1)\n",
    "        self.root = self.build_tree(dataset)\n",
    "    \n",
    "    def predict(self, X):\n",
    "        predictions = [self.make_prediction(x, self.root) for x in X]\n",
    "        return predictions\n",
    "    \n",
    "    def make_prediction(self, x, tree):      \n",
    "        if tree.value is not None:\n",
    "            return tree.value\n",
    "        feature_val = x[tree.feature_index]\n",
    "        if feature_val <= tree.threshold:\n",
    "            return self.make_prediction(x, tree.left)\n",
    "        else:\n",
    "            return self.make_prediction(x, tree.right)"
   ],
   "execution_count":6,
   "outputs":[],
   "metadata":{
    "datalore":{
     "node_id":"Rq1hKAkrPC2iL6NzlREoDT",
     "type":"CODE",
     "hide_input_from_viewers":false,
     "hide_output_from_viewers":false,
     "report_properties":{
      "rowId":"DoW8B8FcICTtbgnDcquSNX"
     }
    }
   }
  },
  {
   "cell_type":"markdown",
   "source":[
    "## Random Forest Regressor"
   ],
   "attachments":{},
   "metadata":{
    "datalore":{
     "node_id":"tHXUND3LoLFgXJa2QIaBea",
     "type":"MD",
     "hide_input_from_viewers":true,
     "hide_output_from_viewers":true
    }
   }
  },
  {
   "cell_type":"code",
   "source":[
    "#RandomForestRegressor\n",
    "class RandomForestRegressor():\n",
    "    def __init__(self, n_estimators=30, min_samples_split=2, max_depth=2):\n",
    "        self.n_estimators = n_estimators\n",
    "        self.min_samples_split = min_samples_split\n",
    "        self.max_depth = max_depth\n",
    "        self.trees = []\n",
    "    \n",
    "    def fit(self, X, Y):\n",
    "        self.trees = []\n",
    "        for _ in range(self.n_estimators):\n",
    "            X_sample, Y_sample = self.bootstrap_sample(X, Y)\n",
    "            tree = DecisionTreeRegressor(\n",
    "                min_samples_split=self.min_samples_split, \n",
    "                max_depth=self.max_depth\n",
    "            )\n",
    "            tree.fit(X_sample, Y_sample)\n",
    "            self.trees.append(tree)\n",
    "    \n",
    "    def bootstrap_sample(self, X, Y):\n",
    "        n_samples = X.shape[0]\n",
    "        indices = np.random.choice(n_samples, n_samples, replace=True)\n",
    "        return X[indices], Y[indices]\n",
    "    \n",
    "    def predict(self, X):\n",
    "        tree_preds = np.array([tree.predict(X) for tree in self.trees])\n",
    "        # Average predictions for regression using mean\n",
    "        y_pred = np.mean(tree_preds, axis=0)\n",
    "        return y_pred"
   ],
   "execution_count":7,
   "outputs":[],
   "metadata":{
    "datalore":{
     "node_id":"EgyT3BWLNOioN6G1ZrXrgH",
     "type":"CODE",
     "hide_input_from_viewers":false,
     "hide_output_from_viewers":false,
     "report_properties":{
      "rowId":"Vc1fRc3L7OmVhgnPUjwqwN"
     }
    }
   }
  },
  {
   "cell_type":"markdown",
   "source":[
    "### Please note: Evaluation and hyperparameter tuning will be executed after Data Prep. in the section below "
   ],
   "attachments":{},
   "metadata":{
    "datalore":{
     "node_id":"wkw8KFHooeoomNcz43fxxU",
     "type":"MD",
     "hide_input_from_viewers":true,
     "hide_output_from_viewers":true
    }
   }
  },
  {
   "cell_type":"markdown",
   "source":[
    "# Section B - Data Visualization\n",
    "**Note**: to discover relevant insights we will Simplify the 'Condition' to 'New' and 'Refurbished' as mentioned in the next  section"
   ],
   "attachments":{},
   "metadata":{
    "datalore":{
     "node_id":"fd213FWU44g12qs0vQJd18",
     "type":"MD",
     "hide_input_from_viewers":false,
     "hide_output_from_viewers":false,
     "report_properties":{
      "rowId":"ADw09kuYrpwo9hX4CRHa6R"
     }
    }
   }
  },
  {
   "cell_type":"code",
   "source":[
    "import pandas as pd\n",
    "import seaborn as sns\n",
    "import matplotlib.pyplot as plt\n",
    "import numpy as np\n",
    "\n",
    "\n",
    "# Simplify the 'Condition' column\n",
    "data['Condition_Simplified'] = data['Condition'].apply(\n",
    "    lambda x: 'New' if 'New' in x or 'Open box' in x else 'Refurbished'\n",
    ")\n",
    "\n",
    "# Parameters for the grid of plots\n",
    "plot_width = 12\n",
    "plot_height = 8\n",
    "spacing = 0.5  # Adjust as needed\n",
    "\n",
    "# Create the subplot grid\n",
    "fig, axes = plt.subplots(nrows=2, ncols=2, figsize=(plot_width, plot_height))\n",
    "\n",
    "# Plot 1: Distribution of Brands\n",
    "ax = axes[0, 0]\n",
    "top_brands = data['Brand'].value_counts().nlargest(10).index\n",
    "temp_series = pd.Series(np.where(data['Brand'].isin(top_brands), data['Brand'], 'Other'))\n",
    "sns.countplot(x=temp_series, hue=data['Condition_Simplified'], order=temp_series.value_counts().index, palette='deep', ax=ax)\n",
    "ax.set_title('Distribution of Brands')\n",
    "ax.set_xlabel('')\n",
    "ax.set_ylabel('Count')\n",
    "ax.tick_params(axis='x', rotation=45)\n",
    "ax.grid(True)\n",
    "\n",
    "# Plot 2: Screen Size vs. Price (Scatter Plot)\n",
    "ax = axes[0, 1]\n",
    "sns.scatterplot(x='Screen_Size', y='Price', hue='Condition_Simplified', data=data, palette='Set2', s=100, edgecolor='w', alpha=0.7, ax=ax)\n",
    "sns.regplot(x='Screen_Size', y='Price', data=data, scatter=False, color='blue', line_kws={'linewidth':2, 'alpha':0.5}, ax=ax)\n",
    "ax.set_title('Screen Size vs. Price')\n",
    "ax.set_xlabel('Screen Size (inches)')\n",
    "ax.set_ylabel('Price (USD)')\n",
    "ax.grid(True)\n",
    "\n",
    "# Plot 3: GPU_Type vs. Price\n",
    "ax = axes[1, 0]\n",
    "sns.boxplot(x='GPU_Type', y='Price', data=data, palette='bright', ax=ax)\n",
    "ax.set_title('GPU Type vs. Price')\n",
    "ax.set_xlabel('GPU Type')\n",
    "ax.set_ylabel('Price (USD)')\n",
    "ax.tick_params(axis='x', rotation=45)\n",
    "ax.grid(True)\n",
    "\n",
    "# Plot 4: RAM vs. Price\n",
    "ax = axes[1, 1]\n",
    "sns.boxplot(x='RAM', y='Price', data=data, palette='bright', ax=ax)\n",
    "ax.set_title('RAM vs. Price')\n",
    "ax.set_xlabel('RAM (GB)')\n",
    "ax.set_ylabel('Price (USD)')\n",
    "ax.tick_params(axis='x', rotation=45)\n",
    "ax.grid(True)\n",
    "\n",
    "\n",
    "\n",
    "# Adjust layout and spacing\n",
    "plt.tight_layout(pad=spacing)\n",
    "plt.show()"
   ],
   "execution_count":8,
   "outputs":[
    {
     "data":{
      "image\/png":"[encoded data removed]"
     },
     "metadata":{
      "image\/png":{}
     },
     "output_type":"display_data"
    }
   ],
   "metadata":{
    "datalore":{
     "node_id":"pJEhpmG6Msu8gr01fVDvMY",
     "type":"CODE",
     "hide_input_from_viewers":true,
     "hide_output_from_viewers":true
    }
   }
  },
  {
   "cell_type":"markdown",
   "source":[
    "# Data Analysis and Observations\n",
    "\n",
    "## Plot 1: Distribution of Brands\n",
    "\n",
    "**Description:**  \n",
    "This plot shows the distribution of the top 10 brands in the dataset, categorized by their simplified condition (New or Refurbished).\n",
    "\n",
    "**Key Observations:**\n",
    "- The distribution of brands is quite varied, with some brands having a higher representation in the dataset.\n",
    "- There is a noticeable difference in the number of new vs. refurbished items for certain brands.\n",
    "\n",
    "**Insights for Condition Prediction:**\n",
    "- Brands could be a significant factor in predicting the condition of a product. Certain brands might have a higher likelihood of being in a new or refurbished state.\n",
    "\n",
    "## Plot 2: Screen Size vs. Price (With Condition)\n",
    "\n",
    "**Description:**  \n",
    "This scatter plot illustrates the relationship between screen size and price, with a regression line indicating the trend. The points are colored based on the simplified condition of the product.\n",
    "\n",
    "**Key Observations:**\n",
    "- There is a positive correlation between screen size and price, meaning larger screen sizes tend to have higher prices.\n",
    "- The condition of the product does not seem to have a strong impact on the relationship between screen size and price.\n",
    "\n",
    "**Insights for Price Prediction:**\n",
    "- Screen size is an important predictor for price, as larger screens generally command higher prices.\n",
    "- The simplified condition might have a minor impact on price but is not as strong a predictor as screen size.\n",
    "\n",
    "## Plot 3: GPU Type vs. Price\n",
    "\n",
    "**Description:**  \n",
    "This box plot compares the price distribution across different GPU types.\n",
    "\n",
    "**Key Observations:**\n",
    "- Items with dedicated graphics generally have a higher price range compared to those with integrated graphics.\n",
    "- There is a considerable variation in prices within each GPU type category.\n",
    "\n",
    "**Insights for Price Prediction:**\n",
    "- GPU type is a significant predictor for price, with dedicated graphics usually associated with higher prices.\n",
    "- The variation within each GPU type suggests that other factors also play a role in determining the price, but GPU type remains a key factor.\n",
    "\n",
    "## Plot 4: RAM vs. Price\n",
    "\n",
    "**Description:**  \n",
    "This box plot compares the price distribution across different RAM sizes.\n",
    "\n",
    "**Key Observations:**\n",
    "- There is a certain trend showing that higher RAM sizes tend to be associated with higher prices.\n",
    "- The median price increases as the RAM size increases, with 32GB RAM configurations generally having the highest prices.\n",
    "- There is a significant variation in prices within each RAM category, indicating that **other factors** besides RAM also influence the price.\n",
    "\n",
    "**Insights for Price Prediction:**\n",
    "-\n",
    "- The variability within each RAM category suggests that while RAM is an important factor, other features such as brand, processor, and GPU type also play significant roles in determining the price.\n",
    "- Incorporating RAM size into a price prediction model will likely improve its accuracy, as it provides a clear indication of the product's performance capabilities, which are reflected in its price.  (higher RAM configurations are generally more expensive).\n",
    "  **Therefore, we tried to visualise this correlation**"
   ],
   "attachments":{},
   "metadata":{
    "datalore":{
     "node_id":"XNiPDFtzvdod4R69Y1Afoi",
     "type":"MD",
     "hide_input_from_viewers":true,
     "hide_output_from_viewers":true
    }
   }
  },
  {
   "cell_type":"markdown",
   "source":[
    "# Section B -  Data Prep\n",
    "## Creating Data for Classifier"
   ],
   "attachments":{},
   "metadata":{
    "datalore":{
     "node_id":"XY53TyYlSUocWlvu6sDUdT",
     "type":"MD",
     "hide_input_from_viewers":true,
     "hide_output_from_viewers":true
    }
   }
  },
  {
   "cell_type":"code",
   "source":[
    "#data for classifier\n",
    "from sklearn.preprocessing import LabelEncoder\n",
    "from sklearn.impute import SimpleImputer, KNNImputer\n",
    "data['Condition'] = data['Condition'].replace({\n",
    "    'New': 1, 'Open box': 1,\n",
    "    'Excellent - Refurbished': 0,\n",
    "    'Very Good - Refurbished': 0,\n",
    "    'Good - Refurbished': 0\n",
    "})\n",
    "\n",
    "data['Resolution'] = data['Resolution'].fillna('0 x 0')\n",
    "# Convert Resolution to Total_Pixels instead of making it categorical\n",
    "def calculate_pixels(resolution):\n",
    "    try:\n",
    "        width, height = map(int, resolution.split(' x '))\n",
    "        return width * height * 0.00001\n",
    "    except ValueError:\n",
    "        return 0 \n",
    "\n",
    "data['Total_Pixels'] = data['Resolution'].apply(calculate_pixels)\n",
    "mean_total_pixels = data['Total_Pixels'].mean()\n",
    "data['Total_Pixels'] = data['Total_Pixels'].replace(0, mean_total_pixels)\n",
    "\n",
    "#Encode categorical features\n",
    "label_encoders = {}\n",
    "for column in ['Brand', 'Processor', 'GPU', 'GPU_Type']:\n",
    "    le = LabelEncoder()\n",
    "    data[column] = le.fit_transform(data[column].astype(str))\n",
    "    label_encoders[column] = le\n",
    "\n",
    "imputer = SimpleImputer(strategy='mean')\n",
    "data['Screen_Size'] = imputer.fit_transform(data[['Screen_Size']])\n",
    "\n",
    "imputer = SimpleImputer(strategy='most_frequent')\n",
    "for column in ['Brand', 'Processor', 'GPU', 'GPU_Type']:\n",
    "    data[column] = imputer.fit_transform(data[[column]])\n",
    "\n",
    "#Apply KNN imputation\n",
    "data['Price'] = data['Price'].apply(lambda x: np.nan if x < 1 else x)\n",
    "knn_imputer = KNNImputer(n_neighbors=5)\n",
    "features = ['Brand', 'Screen_Size', 'RAM', 'Processor', 'GPU', 'GPU_Type', 'Total_Pixels', 'Price']\n",
    "data[features] = knn_imputer.fit_transform(data[features])\n",
    "\n",
    "X = data[features].values\n",
    "y = data['Condition'].values\n",
    "\n",
    "#Split the data\n",
    "X_train = X[:2058]\n",
    "y_train = y[:2058]\n",
    "X_val = X[2058:2499]\n",
    "y_val = y[2058:2499]\n",
    "X_test = X[2499:]\n",
    "y_test = y[2499:]\n",
    "\n",
    "y_train = y_train.reshape(-1, 1)\n",
    "y_val = y_val.reshape(-1, 1)\n",
    "y_test = y_test.reshape(-1, 1)\n",
    "\n",
    "data['Price_Category'] = pd.qcut(data['Price'], q=4, labels=False)\n",
    "inputs_imputed = pd.DataFrame(X, columns=features)\n",
    "inputs_imputed['Condition'] = y"
   ],
   "execution_count":9,
   "outputs":[],
   "metadata":{
    "datalore":{
     "node_id":"snGznZDmNXOh3TWJbTnZgY",
     "type":"CODE",
     "hide_input_from_viewers":false,
     "hide_output_from_viewers":false,
     "report_properties":{
      "rowId":"i9bbxF7IQmMm9IVye3WaCs"
     }
    }
   }
  },
  {
   "cell_type":"markdown",
   "source":[
    "please note we Converted Resolution to Total_Pixels instead of making it categorical\n",
    "#### Benefits of This Approach:\n",
    "- **Numerical Representation:**\n",
    "   Converts resolution to a numerical representation (total pixels), enabling the model to use this feature more effectively.\n",
    "  \n",
    "- **Handling Missing and Invalid Data:**\n",
    "   Ensures the 'Total_Pixels' column does not contain gaps or invalid values, leading to a more robust model.\n",
    "\n",
    "- **Feature Engineering:**\n",
    "   Creating 'Total_Pixels' from the 'Resolution' column is a form of feature engineering that can help the model learn patterns related to screen resolution."
   ],
   "attachments":{},
   "metadata":{
    "datalore":{
     "node_id":"0ChfmWE1S79d8RQpYK0D8B",
     "type":"MD",
     "hide_input_from_viewers":true,
     "hide_output_from_viewers":true
    }
   }
  },
  {
   "cell_type":"markdown",
   "source":[
    "## Creating data for regresor"
   ],
   "attachments":{},
   "metadata":{
    "datalore":{
     "node_id":"R1ubNJXdBF0SrTOHWQ2n7A",
     "type":"MD",
     "hide_input_from_viewers":false,
     "hide_output_from_viewers":false,
     "report_properties":{
      "rowId":"DBkC2dWPoUbYK5bDgCH5Q7"
     }
    }
   }
  },
  {
   "cell_type":"code",
   "source":[
    "#data for regressor\n",
    "import numpy as np\n",
    "import pandas as pd\n",
    "from sklearn.preprocessing import LabelEncoder\n",
    "from sklearn.impute import SimpleImputer, KNNImputer\n",
    "from sklearn.metrics import mean_squared_error\n",
    "\n",
    "df['Resolution'] = df['Resolution'].fillna('0 x 0')\n",
    "# Convert Resolution to Total_Pixels instead of making it categorical\n",
    "def calculate_pixels(resolution):\n",
    "    try:\n",
    "        width, height = map(int, resolution.split(' x '))\n",
    "        return width * height * 0.00001\n",
    "    except ValueError:\n",
    "        return 0  \n",
    "df['Total_Pixels'] = df['Resolution'].apply(calculate_pixels)\n",
    "mean_total_pixels = df['Total_Pixels'].mean()\n",
    "df['Total_Pixels'] = df['Total_Pixels'].replace(0, mean_total_pixels)\n",
    "\n",
    "#Encode categorical features\n",
    "label_encoders = {}\n",
    "for column in ['Brand', 'Processor', 'GPU', 'GPU_Type', 'Condition']:\n",
    "    le = LabelEncoder()\n",
    "    df[column] = le.fit_transform(df[column].astype(str))\n",
    "    label_encoders[column] = le\n",
    "\n",
    "#Apply KNN imputation\n",
    "df['Price'] = df['Price'].apply(lambda x: np.nan if x < 1 else x)\n",
    "knn_imputer = KNNImputer(n_neighbors=5)\n",
    "features_reg = ['Brand', 'Screen_Size', 'RAM', 'Processor', 'GPU', 'GPU_Type', 'Total_Pixels', 'Condition', 'Price']\n",
    "df[features_reg] = knn_imputer.fit_transform(df[features_reg])\n",
    "\n",
    "df.dropna(inplace=True)\n",
    "\n",
    "#Define features and target\n",
    "X_reg = df[['Brand', 'Screen_Size', 'RAM', 'Processor', 'GPU', 'GPU_Type', 'Total_Pixels', 'Condition']].values\n",
    "y_reg = df['Price'].values  # Use 'Price' as the target variable\n",
    "\n",
    "#Split the data\n",
    "X_train_reg = X_reg[:2058]\n",
    "y_train_reg = y_reg[:2058]\n",
    "X_val_reg = X_reg[2058:2499]\n",
    "y_val_reg = y_reg[2058:2499]\n",
    "X_test_reg = X_reg[2499:]\n",
    "y_test_reg = y_reg[2499:]"
   ],
   "execution_count":10,
   "outputs":[],
   "metadata":{
    "datalore":{
     "node_id":"5y2bIvrQIb8gJPZbRMxH7K",
     "type":"CODE",
     "hide_input_from_viewers":false,
     "hide_output_from_viewers":false,
     "report_properties":{
      "rowId":"J5Ne3BPGLcXkfAJ6Zl6sfT"
     }
    }
   }
  },
  {
   "cell_type":"markdown",
   "source":[
    "# EVALUATIONS AND HYPERPARAMETER TUNINGS FUNCTIONS \n",
    "#### (Continues Coding Section )\n",
    "results will appear at section C - implementation"
   ],
   "attachments":{},
   "metadata":{
    "datalore":{
     "node_id":"OuO9K8uLt5hDNvn6Kow7oT",
     "type":"MD",
     "hide_input_from_viewers":false,
     "hide_output_from_viewers":false,
     "report_properties":{
      "rowId":"wc9bnBXpUfl5tOGHCbSW93"
     }
    }
   }
  },
  {
   "cell_type":"markdown",
   "source":[
    "# Decision Tree Classifier evaluation and tuning"
   ],
   "attachments":{},
   "metadata":{
    "datalore":{
     "node_id":"acF0W7YZJtWY5zyBajwP7y",
     "type":"MD",
     "hide_input_from_viewers":true,
     "hide_output_from_viewers":true
    }
   }
  },
  {
   "cell_type":"code",
   "source":[
    "#function for DecisionTreeClassifier and hyperparameters\n",
    "from sklearn.metrics import accuracy_score\n",
    "import time\n",
    "\n",
    "def train_evaluate_and_tune_decision_tree(X_train, y_train, X_val, y_val, X_test, y_test):\n",
    "    start_time = time.time()\n",
    "    \n",
    "    def train_and_evaluate_dt(min_samples_split, max_depth):\n",
    "        model = DecisionTreeClassifier(min_samples_split=min_samples_split, max_depth=max_depth)\n",
    "        model.fit(X_train, y_train)\n",
    "        y_val_pred = model.predict(X_val)\n",
    "        accuracy = accuracy_score(y_val, y_val_pred)\n",
    "        return accuracy, model\n",
    "\n",
    "    # Initial training and validation\n",
    "    initial_model = DecisionTreeClassifier(min_samples_split=10, max_depth=15)\n",
    "    initial_model.fit(X_train, y_train)\n",
    "    y_val_pred_initial = initial_model.predict(X_val)\n",
    "    initial_accuracy = accuracy_score(y_val, y_val_pred_initial)\n",
    "    print(f\"Initial Validation Accuracy: {initial_accuracy * 100:.2f}%\")\n",
    "\n",
    "    # Hyperparameter tuning using a manual grid search\n",
    "    param_grid = {\n",
    "        'min_samples_split': [2, 5, 10],\n",
    "        'max_depth': [10, 15, 20]\n",
    "    }\n",
    "    \n",
    "    best_accuracy = 0\n",
    "    best_params = None\n",
    "    best_model = None\n",
    "\n",
    "    for min_samples_split in param_grid['min_samples_split']:\n",
    "        for max_depth in param_grid['max_depth']:\n",
    "            accuracy, model = train_and_evaluate_dt(min_samples_split, max_depth)\n",
    "            print(f\"Accuracy: {accuracy * 100:.2f}%, Params: min_samples_split={min_samples_split}, max_depth={max_depth}\")\n",
    "            if accuracy > best_accuracy:\n",
    "                best_accuracy = accuracy\n",
    "                best_params = (min_samples_split, max_depth)\n",
    "                best_model = model\n",
    "\n",
    "    print(f\"Best parameters: min_samples_split={best_params[0]}, max_depth={best_params[1]}\")\n",
    "    print(f\"Best Validation Accuracy: {best_accuracy * 100:.2f}%\")\n",
    "\n",
    "    # Test the best model on the test set\n",
    "    y_test_pred = best_model.predict(X_test)\n",
    "    test_accuracy = accuracy_score(y_test, y_test_pred)\n",
    "    print(f\"Test Accuracy: {test_accuracy * 100:.2f}%\")\n",
    "    \n",
    "    end_time = time.time()\n",
    "    total_elapsed_time = end_time - start_time\n",
    "    print(f\"Total runtime: {total_elapsed_time:.2f} seconds\")\n",
    "    \n",
    "    return best_model, best_params, best_accuracy, test_accuracy * 100, y_test_pred\n"
   ],
   "execution_count":11,
   "outputs":[],
   "metadata":{
    "datalore":{
     "node_id":"yoHOHBnrV7UqkWmFTgv5aK",
     "type":"CODE",
     "hide_input_from_viewers":false,
     "hide_output_from_viewers":false,
     "report_properties":{
      "rowId":"fjT8YUxyxYcxP8h5X7HoyX"
     }
    }
   }
  },
  {
   "cell_type":"markdown",
   "source":[
    "# Random Forest Classifier evaluation and tuning"
   ],
   "attachments":{},
   "metadata":{
    "datalore":{
     "node_id":"MXxUJO9ijfYbGcsMgvx4Vg",
     "type":"MD",
     "hide_input_from_viewers":true,
     "hide_output_from_viewers":true
    }
   }
  },
  {
   "cell_type":"code",
   "source":[
    "import time\n",
    "from sklearn.metrics import accuracy_score\n",
    "\n",
    "def train_evaluate_and_tune_random_forest(X_train, y_train, X_val, y_val, X_test, y_test):\n",
    "    start_time = time.time()\n",
    "    \n",
    "    y_train_flat = y_train.flatten()\n",
    "    y_val_flat = y_val.flatten()\n",
    "    y_test_flat = y_test.flatten()\n",
    "\n",
    "    def train_and_evaluate_rf(n_estimators, min_samples_split, max_depth):\n",
    "        model = RandomForestClassifier(n_estimators=n_estimators, min_samples_split=min_samples_split, max_depth=max_depth)\n",
    "        model.fit(X_train, y_train_flat)\n",
    "        y_val_pred = model.predict(X_val)\n",
    "        accuracy = accuracy_score(y_val_flat, y_val_pred)\n",
    "        return accuracy, model\n",
    "\n",
    "    initial_rf_model = RandomForestClassifier(n_estimators=30, min_samples_split=10, max_depth=15)\n",
    "    initial_rf_model.fit(X_train, y_train_flat)\n",
    "    y_val_pred_initial_rf = initial_rf_model.predict(X_val)\n",
    "    initial_accuracy_rf = accuracy_score(y_val_flat, y_val_pred_initial_rf)\n",
    "    print(f\"Initial Validation Accuracy: {initial_accuracy_rf * 100:.2f}%\")\n",
    "\n",
    "    # Hyperparameter tuning using a manual grid search\n",
    "    param_grid_rf = {\n",
    "        #we chose 30 because we faund it to be optimal in run-time + accuracy. and the added tuning for it took too long\n",
    "        'n_estimators': [30],\n",
    "        'min_samples_split': [2, 5, 10],\n",
    "        'max_depth': [10, 15]\n",
    "    }\n",
    "    best_accuracy_rf = 0\n",
    "    best_params_rf = None\n",
    "    best_model_rf = None\n",
    "\n",
    "    for n_estimators in param_grid_rf['n_estimators']:\n",
    "        for min_samples_split in param_grid_rf['min_samples_split']:\n",
    "            for max_depth in param_grid_rf['max_depth']:\n",
    "                accuracy_rf, model_rf = train_and_evaluate_rf(n_estimators, min_samples_split, max_depth)\n",
    "                print(f\"Accuracy: {accuracy_rf * 100:.2f}%, Params: n_estimators={n_estimators}, min_samples_split={min_samples_split}, max_depth={max_depth}\")\n",
    "                if accuracy_rf > best_accuracy_rf:\n",
    "                    best_accuracy_rf = accuracy_rf\n",
    "                    best_params_rf = (n_estimators, min_samples_split, max_depth)\n",
    "                    best_model_rf = model_rf\n",
    "\n",
    "    print(f\"Best parameters: n_estimators={best_params_rf[0]}, min_samples_split={best_params_rf[1]}, max_depth={best_params_rf[2]}\")\n",
    "    print(f\"Best Validation Accuracy: {best_accuracy_rf * 100:.2f}%\")\n",
    "\n",
    "    # Test the best model on the test set\n",
    "    y_test_pred_rf = best_model_rf.predict(X_test)\n",
    "    test_accuracy_rf = accuracy_score(y_test_flat, y_test_pred_rf)\n",
    "    acc_classification_rf = test_accuracy_rf * 100\n",
    "    print(f\"Test Accuracy: {test_accuracy_rf * 100:.2f}%\")\n",
    "\n",
    "    end_time = time.time()\n",
    "    total_elapsed_time = end_time - start_time\n",
    "    print(f\"Total runtime: {total_elapsed_time:.2f} seconds\")\n",
    "    \n",
    "    return best_model_rf, best_params_rf, best_accuracy_rf, acc_classification_rf, y_test_pred_rf\n"
   ],
   "execution_count":12,
   "outputs":[],
   "metadata":{
    "datalore":{
     "node_id":"FtdE8ekidzyvGkJsZwPI0E",
     "type":"CODE",
     "hide_input_from_viewers":false,
     "hide_output_from_viewers":false,
     "report_properties":{
      "rowId":"jvE9rwJX3SoLxajK8tjsPn"
     }
    }
   }
  },
  {
   "cell_type":"markdown",
   "source":[
    "# Decision Tree Regressor evaluation and tuning"
   ],
   "attachments":{},
   "metadata":{
    "datalore":{
     "node_id":"RH9KVVhspO77rzLYfQgwGy",
     "type":"MD",
     "hide_input_from_viewers":true,
     "hide_output_from_viewers":true
    }
   }
  },
  {
   "cell_type":"code",
   "source":[
    "import time\n",
    "from sklearn.metrics import mean_squared_error\n",
    "\n",
    "def train_evaluate_and_tune_decision_tree_regressor(X_train_reg, y_train_reg, X_val_reg, y_val_reg, X_test_reg, y_test_reg):\n",
    "    start_time = time.time()\n",
    "    \n",
    "    def train_and_evaluate_dtr(min_samples_split, max_depth):\n",
    "        model = DecisionTreeRegressor(min_samples_split=min_samples_split, max_depth=max_depth)\n",
    "        model.fit(X_train_reg, y_train_reg)\n",
    "        y_val_pred = model.predict(X_val_reg)\n",
    "        mse = mean_squared_error(y_val_reg, y_val_pred)\n",
    "        return mse, model\n",
    "\n",
    "    initial_dtr_model = DecisionTreeRegressor(min_samples_split=10, max_depth=15)\n",
    "    initial_dtr_model.fit(X_train_reg, y_train_reg)\n",
    "    y_val_pred_initial_dtr = initial_dtr_model.predict(X_val_reg)\n",
    "    initial_mse_dtr = mean_squared_error(y_val_reg, y_val_pred_initial_dtr)\n",
    "    print(f\"Initial Validation MSE: {initial_mse_dtr:.2f}\")\n",
    "\n",
    "    # Hyperparameter tuning using a manual grid search\n",
    "    param_grid_dtr = {\n",
    "        'min_samples_split': [2, 5, 10],\n",
    "        'max_depth': [10, 15, 20]\n",
    "    }\n",
    "\n",
    "    best_mse_dtr = float('inf')\n",
    "    best_params_dtr = None\n",
    "    best_model_dtr = None\n",
    "\n",
    "    for min_samples_split in param_grid_dtr['min_samples_split']:\n",
    "        for max_depth in param_grid_dtr['max_depth']:\n",
    "            mse_dtr, model_dtr = train_and_evaluate_dtr(min_samples_split, max_depth)\n",
    "            print(f\"MSE: {mse_dtr:.2f}, Params: min_samples_split={min_samples_split}, max_depth={max_depth}\")\n",
    "            if mse_dtr < best_mse_dtr:\n",
    "                best_mse_dtr = mse_dtr\n",
    "                best_params_dtr = (min_samples_split, max_depth)\n",
    "                best_model_dtr = model_dtr\n",
    "\n",
    "    print(f\"Best parameters: min_samples_split={best_params_dtr[0]}, max_depth={best_params_dtr[1]}\")\n",
    "    print(f\"Best Validation MSE: {best_mse_dtr:.2f}\")\n",
    "\n",
    "    # Test the best model on the test set\n",
    "    y_test_pred_dtr = best_model_dtr.predict(X_test_reg)\n",
    "    test_mse_dtr = mean_squared_error(y_test_reg, y_test_pred_dtr)\n",
    "    print(f\"Test MSE: {test_mse_dtr:.2f}\")\n",
    "\n",
    "    end_time = time.time()\n",
    "    total_elapsed_time = end_time - start_time\n",
    "    print(f\"Total runtime: {total_elapsed_time:.2f} seconds\")\n",
    "    \n",
    "    return best_model_dtr, best_params_dtr, best_mse_dtr, test_mse_dtr, y_test_pred_dtr"
   ],
   "execution_count":13,
   "outputs":[],
   "metadata":{
    "datalore":{
     "node_id":"1ovFyFIoDDpQLuOhIRNSFe",
     "type":"CODE",
     "hide_input_from_viewers":false,
     "hide_output_from_viewers":false,
     "report_properties":{
      "rowId":"eWyvi224ImDFl0yr8Sihm2"
     }
    }
   }
  },
  {
   "cell_type":"markdown",
   "source":[
    "# Random Forest Regressor evaluation and tuning"
   ],
   "attachments":{},
   "metadata":{
    "datalore":{
     "node_id":"tfu0aqVzOaqAOQuNd30J8d",
     "type":"MD",
     "hide_input_from_viewers":true,
     "hide_output_from_viewers":true
    }
   }
  },
  {
   "cell_type":"code",
   "source":[
    "import time\n",
    "from sklearn.metrics import mean_squared_error\n",
    "\n",
    "def train_evaluate_and_tune_random_forest_regressor(X_train_reg, y_train_reg, X_val_reg, y_val_reg, X_test_reg, y_test_reg):\n",
    "    start_time = time.time()\n",
    "    \n",
    "    def train_and_evaluate_rfr(n_estimators, min_samples_split, max_depth):\n",
    "        model = RandomForestRegressor(n_estimators=n_estimators, min_samples_split=min_samples_split, max_depth=max_depth)\n",
    "        model.fit(X_train_reg, y_train_reg)\n",
    "        y_val_pred = model.predict(X_val_reg)\n",
    "        mse = mean_squared_error(y_val_reg, y_val_pred)\n",
    "        return mse, model\n",
    "\n",
    "    initial_rfr_model = RandomForestRegressor(n_estimators=30, min_samples_split=10, max_depth=15)\n",
    "    initial_rfr_model.fit(X_train_reg, y_train_reg)\n",
    "    y_val_pred_initial_rfr = initial_rfr_model.predict(X_val_reg)\n",
    "    initial_mse_rfr = mean_squared_error(y_val_reg, y_val_pred_initial_rfr)\n",
    "    print(f\"Initial Validation MSE: {initial_mse_rfr:.2f}\")\n",
    "\n",
    "    # Hyperparameter tuning using a manual grid search\n",
    "    param_grid_rfr = {\n",
    "        #we chose 30 because we faund it to be optimal in run-time + mse. and the added tuning for it took too long\n",
    "        'n_estimators': [30],\n",
    "        'min_samples_split': [2, 5, 10],\n",
    "        'max_depth': [10, 15]\n",
    "    }\n",
    "\n",
    "    best_mse_rfr = float('inf')\n",
    "    best_params_rfr = None\n",
    "    best_model_rfr = None\n",
    "\n",
    "    for n_estimators in param_grid_rfr['n_estimators']:\n",
    "        for min_samples_split in param_grid_rfr['min_samples_split']:\n",
    "            for max_depth in param_grid_rfr['max_depth']:\n",
    "                mse_rfr, model_rfr = train_and_evaluate_rfr(n_estimators, min_samples_split, max_depth)\n",
    "                print(f\"MSE: {mse_rfr:.2f}, Params: n_estimators={n_estimators}, min_samples_split={min_samples_split}, max_depth={max_depth}\")\n",
    "                if mse_rfr < best_mse_rfr:\n",
    "                    best_mse_rfr = mse_rfr\n",
    "                    best_params_rfr = (n_estimators, min_samples_split, max_depth)\n",
    "                    best_model_rfr = model_rfr\n",
    "\n",
    "    print(f\"Best parameters: n_estimators={best_params_rfr[0]}, min_samples_split={best_params_rfr[1]}, max_depth={best_params_rfr[2]}\")\n",
    "    print(f\"Best Validation MSE: {best_mse_rfr:.2f}\")\n",
    "\n",
    "    # Test the best model on the test set\n",
    "    y_test_pred_rfr = best_model_rfr.predict(X_test_reg)\n",
    "    test_mse_rfr = mean_squared_error(y_test_reg, y_test_pred_rfr)\n",
    "    print(f\"Test MSE: {test_mse_rfr:.2f}\")\n",
    "\n",
    "    end_time = time.time()\n",
    "    total_elapsed_time = end_time - start_time\n",
    "    print(f\"Total runtime: {total_elapsed_time:.2f} seconds\")\n",
    "    \n",
    "    return best_model_rfr, best_params_rfr, best_mse_rfr, test_mse_rfr, y_test_pred_rfr"
   ],
   "execution_count":14,
   "outputs":[],
   "metadata":{
    "datalore":{
     "node_id":"TepozUFufMSArU4a240cAG",
     "type":"CODE",
     "hide_input_from_viewers":false,
     "hide_output_from_viewers":false,
     "report_properties":{
      "rowId":"5qSitkJF5G5Dt1Beow0Aic"
     }
    }
   }
  },
  {
   "cell_type":"markdown",
   "source":[
    " # Section C - Implementation\n",
    " # Classification - Decision Tree\n",
    " RESULTS:\n",
    "\n",
    " "
   ],
   "attachments":{},
   "metadata":{
    "datalore":{
     "node_id":"UC3V8DLHbShylXJHzPIggD",
     "type":"MD",
     "hide_input_from_viewers":false,
     "hide_output_from_viewers":false,
     "report_properties":{
      "rowId":"LM0KZE3usGXMiQIaraB1ek"
     }
    }
   }
  },
  {
   "cell_type":"code",
   "source":[
    "\n",
    "# Train and evaluate models for decision tree\n",
    "best_model_dt, best_params_dt, best_accuracy_dt, test_accuracy_dt, y_test_pred_dt = train_evaluate_and_tune_decision_tree(X_train, y_train, X_val, y_val, X_test, y_test)"
   ],
   "execution_count":32,
   "outputs":[
    {
     "name":"stdout",
     "text":[
      "Initial Validation Accuracy: 81.41%\n",
      "Accuracy: 81.18%, Params: min_samples_split=2, max_depth=10\n",
      "Accuracy: 79.82%, Params: min_samples_split=2, max_depth=15\n",
      "Accuracy: 80.95%, Params: min_samples_split=2, max_depth=20\n",
      "Accuracy: 80.95%, Params: min_samples_split=5, max_depth=10\n",
      "Accuracy: 80.05%, Params: min_samples_split=5, max_depth=15\n",
      "Accuracy: 80.95%, Params: min_samples_split=5, max_depth=20\n",
      "Accuracy: 82.31%, Params: min_samples_split=10, max_depth=10\n",
      "Accuracy: 81.41%, Params: min_samples_split=10, max_depth=15\n",
      "Accuracy: 82.31%, Params: min_samples_split=10, max_depth=20\n",
      "Best parameters: min_samples_split=10, max_depth=10\n",
      "Best Validation Accuracy: 82.31%\n",
      "Test Accuracy: 78.86%\n",
      "Total runtime: 113.96 seconds\n"
     ],
     "output_type":"stream"
    }
   ],
   "metadata":{
    "datalore":{
     "node_id":"TaxZK7HpmMhUIX8EtjO16s",
     "type":"CODE",
     "hide_input_from_viewers":false,
     "hide_output_from_viewers":false,
     "report_properties":{
      "rowId":"i7khElS7qTCIMWITMxTJ0d"
     }
    }
   }
  },
  {
   "cell_type":"markdown",
   "source":[
    " # Classification - Random Forest\n",
    " RESULTS:"
   ],
   "attachments":{},
   "metadata":{
    "datalore":{
     "node_id":"tChumVuSjaijOR6MJPYZK4",
     "type":"MD",
     "hide_input_from_viewers":true,
     "hide_output_from_viewers":true
    }
   }
  },
  {
   "cell_type":"code",
   "source":[
    "\n",
    "# Train and evaluate models for random forest\n",
    "best_model_rf, best_params_rf, best_accuracy_rf, test_accuracy_rf, y_test_pred_rf = train_evaluate_and_tune_random_forest(X_train, y_train, X_val, y_val, X_test, y_test)"
   ],
   "execution_count":15,
   "outputs":[
    {
     "name":"stdout",
     "text":[
      "Initial Validation Accuracy: 83.90%\n",
      "Accuracy: 84.81%, Params: n_estimators=30, min_samples_split=2, max_depth=10\n",
      "Accuracy: 86.17%, Params: n_estimators=30, min_samples_split=2, max_depth=15\n",
      "Accuracy: 83.90%, Params: n_estimators=30, min_samples_split=5, max_depth=10\n",
      "Accuracy: 83.22%, Params: n_estimators=30, min_samples_split=5, max_depth=15\n",
      "Accuracy: 86.17%, Params: n_estimators=30, min_samples_split=10, max_depth=10\n",
      "Accuracy: 84.58%, Params: n_estimators=30, min_samples_split=10, max_depth=15\n",
      "Best parameters: n_estimators=30, min_samples_split=2, max_depth=15\n",
      "Best Validation Accuracy: 86.17%\n",
      "Test Accuracy: 84.09%\n",
      "Total runtime: 2489.06 seconds\n"
     ],
     "output_type":"stream"
    }
   ],
   "metadata":{
    "datalore":{
     "node_id":"sm6eYxzj4oLOZmckBRedc9",
     "type":"CODE",
     "hide_input_from_viewers":false,
     "hide_output_from_viewers":false,
     "report_properties":{
      "rowId":"eoIzLiA5SRhRUWvM4AIAPh"
     }
    }
   }
  },
  {
   "cell_type":"markdown",
   "source":[
    " # Regressor - Decision Tree \n",
    " RESULTS:"
   ],
   "attachments":{},
   "metadata":{
    "datalore":{
     "node_id":"ScRXPRJOTdUI16ydU7dFtz",
     "type":"MD",
     "hide_input_from_viewers":true,
     "hide_output_from_viewers":true
    }
   }
  },
  {
   "cell_type":"code",
   "source":[
    "# Train and evaluate models for Decision Tree Regressor\n",
    "best_model_dtr, best_params_dtr, best_mse_dtr, test_mse_dtr, y_test_pred_dtr = train_evaluate_and_tune_decision_tree_regressor(X_train_reg, y_train_reg, X_val_reg, y_val_reg, X_test_reg, y_test_reg)"
   ],
   "execution_count":33,
   "outputs":[
    {
     "name":"stdout",
     "text":[
      "Initial Validation MSE: 37623.63\n",
      "MSE: 48272.86, Params: min_samples_split=2, max_depth=10\n",
      "MSE: 48682.71, Params: min_samples_split=2, max_depth=15\n",
      "MSE: 48682.71, Params: min_samples_split=2, max_depth=20\n",
      "MSE: 43830.18, Params: min_samples_split=5, max_depth=10\n",
      "MSE: 43799.17, Params: min_samples_split=5, max_depth=15\n",
      "MSE: 43799.17, Params: min_samples_split=5, max_depth=20\n",
      "MSE: 37619.28, Params: min_samples_split=10, max_depth=10\n",
      "MSE: 37623.63, Params: min_samples_split=10, max_depth=15\n",
      "MSE: 37623.63, Params: min_samples_split=10, max_depth=20\n",
      "Best parameters: min_samples_split=10, max_depth=10\n",
      "Best Validation MSE: 37619.28\n",
      "Test MSE: 34008.45\n",
      "Total runtime: 29.24 seconds\n"
     ],
     "output_type":"stream"
    }
   ],
   "metadata":{
    "datalore":{
     "node_id":"L4BLF6m3QJe7zmSAJSieVg",
     "type":"CODE",
     "hide_input_from_viewers":false,
     "hide_output_from_viewers":false,
     "report_properties":{
      "rowId":"2ba3039yMz7Vay4PdX9U2H"
     }
    }
   }
  },
  {
   "cell_type":"markdown",
   "source":[
    "# Regressor - Random Forest\n",
    "RESULTS:"
   ],
   "attachments":{},
   "metadata":{
    "datalore":{
     "node_id":"gh4e3cSmVCEsaqSBFlNzzu",
     "type":"MD",
     "hide_input_from_viewers":true,
     "hide_output_from_viewers":true
    }
   }
  },
  {
   "cell_type":"code",
   "source":[
    "\n",
    "# Train and evaluate models for Random Forest Regressor\n",
    "best_model_rfr, best_params_rfr, best_mse_rfr, test_mse_rfr, y_test_pred_rfr = train_evaluate_and_tune_random_forest_regressor(X_train_reg, y_train_reg, X_val_reg, y_val_reg, X_test_reg, y_test_reg)"
   ],
   "execution_count":34,
   "outputs":[
    {
     "name":"stdout",
     "text":[
      "Initial Validation MSE: 30429.52\n",
      "MSE: 31277.41, Params: n_estimators=30, min_samples_split=2, max_depth=10\n",
      "MSE: 31834.90, Params: n_estimators=30, min_samples_split=2, max_depth=15\n",
      "MSE: 30895.56, Params: n_estimators=30, min_samples_split=5, max_depth=10\n",
      "MSE: 31696.10, Params: n_estimators=30, min_samples_split=5, max_depth=15\n",
      "MSE: 30728.22, Params: n_estimators=30, min_samples_split=10, max_depth=10\n",
      "MSE: 29557.25, Params: n_estimators=30, min_samples_split=10, max_depth=15\n",
      "Best parameters: n_estimators=30, min_samples_split=10, max_depth=15\n",
      "Best Validation MSE: 29557.25\n",
      "Test MSE: 27711.79\n",
      "Total runtime: 516.69 seconds\n"
     ],
     "output_type":"stream"
    }
   ],
   "metadata":{
    "datalore":{
     "node_id":"uFlFf9WZTbh4aziT4DxuHV",
     "type":"CODE",
     "hide_input_from_viewers":false,
     "hide_output_from_viewers":false,
     "report_properties":{
      "rowId":"T5oqe7t9vFa7B3zYmB10Lr"
     }
    }
   }
  },
  {
   "cell_type":"markdown",
   "source":[
    "# Section D | Comparison | Using Sklearn\n",
    "## Sklearn Classifiers:"
   ],
   "attachments":{},
   "metadata":{
    "datalore":{
     "node_id":"zLIjx5jkCQbRoX4YtFCmNE",
     "type":"MD",
     "hide_input_from_viewers":false,
     "hide_output_from_viewers":false,
     "report_properties":{
      "rowId":"xdOS0pVvSRIuE1moGiTS2v"
     }
    }
   }
  },
  {
   "cell_type":"code",
   "source":[
    "import pandas as pd\n",
    "import numpy as np\n",
    "from sklearn.preprocessing import LabelEncoder, StandardScaler\n",
    "from sklearn.impute import SimpleImputer, KNNImputer\n",
    "from sklearn.model_selection import train_test_split, GridSearchCV\n",
    "from sklearn.metrics import accuracy_score\n",
    "from sklearn.tree import DecisionTreeClassifier as SklearnDecisionTreeClassifier\n",
    "from sklearn.ensemble import RandomForestClassifier as SklearnRandomForestClassifier\n",
    "import time\n",
    "\n",
    "\n",
    "y_train_flat = y_train.ravel()\n",
    "y_val_flat = y_val.ravel()\n",
    "y_test_flat = y_test.ravel()\n",
    "\n",
    "# Decision Tree Classifier with GridSearchCV\n",
    "dt_param_grid = {\n",
    "    'min_samples_split': [2, 5, 10],\n",
    "    'max_depth': [10, 15, 20]\n",
    "}\n",
    "\n",
    "print_separator()\n",
    "print(\"Sklearn Decision Tree Classifier\")\n",
    "print_separator()\n",
    "\n",
    "start_time = time.time()\n",
    "dt_grid_search = GridSearchCV(SklearnDecisionTreeClassifier(), dt_param_grid, cv=3, scoring='accuracy')\n",
    "dt_grid_search.fit(X_train, y_train_flat)\n",
    "best_dt_model = dt_grid_search.best_estimator_\n",
    "y_val_pred = best_dt_model.predict(X_val)\n",
    "dt_accuracy = accuracy_score(y_val_flat, y_val_pred)\n",
    "end_time = time.time()\n",
    "\n",
    "print(f\"Best Params: {dt_grid_search.best_params_}\")\n",
    "print(f\"Validation Accuracy: {dt_accuracy * 100:.2f}%\")\n",
    "print(f\"Runtime: {end_time - start_time:.4f} seconds\")\n",
    "\n",
    "# Test the best Decision Tree model on the test set\n",
    "y_test_pred_dt = best_dt_model.predict(X_test)\n",
    "test_accuracy_dt = accuracy_score(y_test_flat, y_test_pred_dt)\n",
    "acc_classification_tree = test_accuracy_dt * 100\n",
    "print(f\"Test Accuracy:  {test_accuracy_dt * 100:.2f}%\")\n",
    "\n",
    "print_separator()\n",
    "\n",
    "\n",
    "# Random Forest Classifier with GridSearchCV\n",
    "rf_param_grid = {\n",
    "    'n_estimators': [100, 200],\n",
    "    'min_samples_split': [2, 5, 10],\n",
    "    'max_depth': [10, 15, 20]\n",
    "}\n",
    "\n",
    "print(\"Sklearn Random Forest Classifier\")\n",
    "print_separator()\n",
    "\n",
    "start_time = time.time()\n",
    "rf_grid_search = GridSearchCV(SklearnRandomForestClassifier(), rf_param_grid, cv=3, scoring='accuracy')\n",
    "rf_grid_search.fit(X_train, y_train_flat)\n",
    "best_rf_model = rf_grid_search.best_estimator_\n",
    "y_val_pred_rf = best_rf_model.predict(X_val)\n",
    "rf_accuracy = accuracy_score(y_val_flat, y_val_pred_rf)\n",
    "end_time = time.time()\n",
    "\n",
    "print(f\"Best Params: {rf_grid_search.best_params_}\")\n",
    "print(f\"Validation Accuracy: {rf_accuracy * 100:.2f}%\")\n",
    "print(f\"Runtime: {end_time - start_time:.4f} seconds\")\n",
    "\n",
    "# Test the best Random Forest model on the test set\n",
    "y_test_pred_rf = best_rf_model.predict(X_test)\n",
    "test_accuracy_rf = accuracy_score(y_test_flat, y_test_pred_rf)\n",
    "acc_classification_rf = test_accuracy_rf * 100\n",
    "print(f\"Test Accuracy: {test_accuracy_rf * 100:.2f}%\")\n",
    "\n"
   ],
   "execution_count":11,
   "outputs":[
    {
     "name":"stdout",
     "text":[
      "\n",
      "==================================================\n",
      "\n",
      "Sklearn Decision Tree Classifier\n",
      "\n",
      "==================================================\n",
      "\n",
      "Best Params: {'max_depth': 15, 'min_samples_split': 5}\n",
      "Validation Accuracy: 80.50%\n",
      "Runtime: 0.1532 seconds\n",
      "Test Accuracy:  78.41%\n",
      "\n",
      "==================================================\n",
      "\n",
      "Sklearn Random Forest Classifier\n",
      "\n",
      "==================================================\n",
      "\n",
      "Best Params: {'max_depth': 20, 'min_samples_split': 2, 'n_estimators': 100}\n",
      "Validation Accuracy: 84.35%\n",
      "Runtime: 21.6819 seconds\n",
      "Test Accuracy: 84.77%\n"
     ],
     "output_type":"stream"
    }
   ],
   "metadata":{
    "datalore":{
     "node_id":"OTBvyZduT38DSEfcZGB1Ax",
     "type":"CODE",
     "hide_input_from_viewers":false,
     "hide_output_from_viewers":false,
     "report_properties":{
      "rowId":"n5DE3PbwVRtMr1fgrcrq8T"
     }
    }
   }
  },
  {
   "cell_type":"markdown",
   "source":[
    "# Classifiers Comparison of Custom Implementation vs Sklearn Models\n",
    "\n",
    "## Decision Tree Classifier\n",
    "\n",
    "| Metric                | Sklearn Decision Tree     | Custom Decision Tree      |\n",
    "|-----------------------|---------------------------|---------------------------|\n",
    "| Best Params           | min_samples_split: 5, max_depth: 15 | min_samples_split=10, max_depth=10 |\n",
    "| Validation Accuracy   | 80.50%                    | 82.31%                    |\n",
    "| Test Accuracy         | 78.41%                    | 78.86%                    |\n",
    "| Runtime (seconds)     | 0.1532                    | 113.96                    |\n",
    "\n",
    "## Random Forest Classifier\n",
    "\n",
    "| Metric                | Sklearn Random Forest     | Custom Random Forest      |\n",
    "|-----------------------|---------------------------|---------------------------|\n",
    "| Best Params           |n_estimators: 100, min_samples_split: 2, max_depth:20| n_estimators=30, min_samples_split=2, max_depth=15 |\n",
    "| Validation Accuracy   | 84.35%                    | 86.17%                    |\n",
    "| Test Accuracy         | 84.77%                    | 84.09%                    |\n",
    "| Runtime (seconds)     | 21.6819                   | 2489.06                   |\n",
    "\n",
    "## Comparison and Analysis\n",
    "\n",
    "### Decision Tree Classifier\n",
    "\n",
    "- **Validation Accuracy:**\n",
    " Both the custom and sklearn implementations show similar validation accuracies, with the custom implementation slightly higher.\n",
    "- **Test Accuracy:**\n",
    " Test accuracies are also very close, with the custom implementation being marginally better.\n",
    "- **Runtime:**\n",
    "The custom implementation's runtime is significantly longer than the sklearn implementation. This could be due to optimizations in the sklearn library that make their implementation more efficient.\n",
    "\n",
    "### Random Forest Classifier\n",
    "\n",
    "- **Validation Accuracy:**\n",
    " The custom implementation has a slightly higher validation accuracy than the sklearn implementation.\n",
    "- **Test Accuracy:**\n",
    "  The test accuracies are very close, with the sklearn implementation being marginally better.\n",
    "- **Runtime:**\n",
    "  The custom implementation's runtime is significantly longer.\n",
    "\n",
    "### Explanation for Differences\n",
    "\n",
    "- **Optimizations in Sklearn:**\n",
    "  The sklearn library is highly optimized for performance. It uses compiled C\/C++ code and efficient algorithms for training models, which can significantly reduce runtime.\n",
    "- **Parallel Processing:**\n",
    "   Sklearn's RandomForest implementation uses parallel processing effectively, which can speed up the training process compared to a custom implementation that might not leverage parallelism as efficiently.\n",
    "- **Algorithm Efficiency:**\n",
    "   The internal algorithms used by sklearn are fine-tuned for performance, which might not be the case for a custom implementation.\n",
    "- **Memory Management:**\n",
    "   Sklearn handles memory management efficiently, reducing the overhead during model training.\n",
    "\n",
    "### Conclusion for Classifiers\n",
    "\n",
    "- **Custom Implementation:**\n",
    "  - Offers competitive accuracy but at the cost of significantly increased runtime.\n",
    "  - **NOTE**: We will discuss about our accuracy later on at final Conclusions\n",
    " \n",
    "- **Sklearn Implementation:**\n",
    "  - Provides optimized and efficient models with faster runtimes.\n",
    "\n"
   ],
   "attachments":{},
   "metadata":{
    "datalore":{
     "node_id":"74GJ0gWlADmeWtiLpghqfG",
     "type":"MD",
     "hide_input_from_viewers":true,
     "hide_output_from_viewers":true
    }
   }
  },
  {
   "cell_type":"markdown",
   "source":[
    "## Sklearn Regressors:"
   ],
   "attachments":{},
   "metadata":{
    "datalore":{
     "node_id":"ZvrhWIH6rL6PCVjHiwbOPy",
     "type":"MD",
     "hide_input_from_viewers":true,
     "hide_output_from_viewers":true
    }
   }
  },
  {
   "cell_type":"code",
   "source":[
    "import pandas as pd\n",
    "import numpy as np\n",
    "from sklearn.preprocessing import LabelEncoder, StandardScaler\n",
    "from sklearn.impute import SimpleImputer, KNNImputer\n",
    "from sklearn.model_selection import train_test_split, GridSearchCV\n",
    "from sklearn.metrics import mean_squared_error\n",
    "from sklearn.tree import DecisionTreeRegressor as SklearnDecisionTreeRegressor\n",
    "from sklearn.ensemble import RandomForestRegressor as SklearnRandomForestRegressor\n",
    "import time\n",
    "\n",
    "y_train_reg_flat = y_train_reg.ravel()\n",
    "y_val_reg_flat = y_val_reg.ravel()\n",
    "y_test_reg_flat = y_test_reg.ravel()\n",
    "\n",
    "def print_separator():\n",
    "    print(\"\\n\" + \"=\"*50 + \"\\n\")\n",
    "\n",
    "# Decision Tree Regressor with GridSearchCV\n",
    "dtr_param_grid = {\n",
    "    'min_samples_split': [2, 5, 10],\n",
    "    'max_depth': [10, 15, 20]\n",
    "}\n",
    "\n",
    "print(\"SkLearn Decision Tree Regressor\")\n",
    "print_separator()\n",
    "\n",
    "start_time_gs_dtr = time.time()\n",
    "dtr_grid_search = GridSearchCV(SklearnDecisionTreeRegressor(), dtr_param_grid, cv=3, scoring='neg_mean_squared_error')\n",
    "dtr_grid_search.fit(X_train_reg, y_train_reg_flat)\n",
    "end_time_gs_dtr = time.time()\n",
    "\n",
    "best_dtr_model = dtr_grid_search.best_estimator_\n",
    "start_time_fit_dtr = time.time()\n",
    "y_val_pred_dtr = best_dtr_model.predict(X_val_reg)\n",
    "end_time_fit_dtr = time.time()\n",
    "\n",
    "dtr_mse = mean_squared_error(y_val_reg_flat, y_val_pred_dtr)\n",
    "\n",
    "print(f\"Best Params: {dtr_grid_search.best_params_}\")\n",
    "print(f\"Validation MSE: {dtr_mse:.2f}\")\n",
    "print(f\"GridSearch Runtime: {end_time_gs_dtr - start_time_gs_dtr:.4f} seconds\")\n",
    "print(f\"Prediction Runtime: {end_time_fit_dtr - start_time_fit_dtr:.4f} seconds\")\n",
    "\n",
    "# Test the best Decision Tree model on the test set\n",
    "start_time_test_dtr = time.time()\n",
    "y_test_pred_dtr = best_dtr_model.predict(X_test_reg)\n",
    "end_time_test_dtr = time.time()\n",
    "\n",
    "test_mse_dtr = mean_squared_error(y_test_reg_flat, y_test_pred_dtr)\n",
    "print(f\"Test MSE: {test_mse_dtr:.2f}\")\n",
    "print(f\"Test Prediction Runtime: {end_time_test_dtr - start_time_test_dtr:.4f} seconds\")\n",
    "\n",
    "print_separator()\n",
    "\n",
    "# Random Forest Regressor with GridSearchCV\n",
    "rfr_param_grid = {\n",
    "    'n_estimators': [100, 200],\n",
    "    'min_samples_split': [2, 5, 10],\n",
    "    'max_depth': [10, 15, 20]\n",
    "}\n",
    "\n",
    "print(\"SkLearn Random Forest Regressor\")\n",
    "print_separator()\n",
    "\n",
    "start_time_gs_rfr = time.time()\n",
    "rfr_grid_search = GridSearchCV(SklearnRandomForestRegressor(), rfr_param_grid, cv=3, scoring='neg_mean_squared_error')\n",
    "rfr_grid_search.fit(X_train_reg, y_train_reg_flat)\n",
    "end_time_gs_rfr = time.time()\n",
    "\n",
    "best_rfr_model = rfr_grid_search.best_estimator_\n",
    "start_time_fit_rfr = time.time()\n",
    "y_val_pred_rfr = best_rfr_model.predict(X_val_reg)\n",
    "end_time_fit_rfr = time.time()\n",
    "\n",
    "rfr_mse = mean_squared_error(y_val_reg_flat, y_val_pred_rfr)\n",
    "\n",
    "print(f\"Best Params: {rfr_grid_search.best_params_}\")\n",
    "print(f\"Validation MSE: {rfr_mse:.2f}\")\n",
    "print(f\"GridSearch Runtime: {end_time_gs_rfr - start_time_gs_rfr:.4f} seconds\")\n",
    "print(f\"Prediction Runtime: {end_time_fit_rfr - start_time_fit_rfr:.4f} seconds\")\n",
    "\n",
    "# Test the best Random Forest model on the test set\n",
    "start_time_test_rfr = time.time()\n",
    "y_test_pred_rfr = best_rfr_model.predict(X_test_reg)\n",
    "end_time_test_rfr = time.time()\n",
    "\n",
    "test_mse_rfr = mean_squared_error(y_test_reg_flat, y_test_pred_rfr)\n",
    "print(f\"Test MSE: {test_mse_rfr:.2f}\")\n",
    "print(f\"Test Prediction Runtime: {end_time_test_rfr - start_time_test_rfr:.4f} seconds\")\n",
    "\n",
    "print_separator()"
   ],
   "execution_count":15,
   "outputs":[
    {
     "name":"stdout",
     "text":[
      "SkLearn Decision Tree Regressor\n",
      "\n",
      "==================================================\n",
      "\n",
      "Best Params: {'max_depth': 10, 'min_samples_split': 10}\n",
      "Validation MSE: 39725.41\n",
      "GridSearch Runtime: 0.1219 seconds\n",
      "Prediction Runtime: 0.0003 seconds\n",
      "Test MSE: 29415.01\n",
      "Test Prediction Runtime: 0.0014 seconds\n",
      "\n",
      "==================================================\n",
      "\n",
      "SkLearn Random Forest Regressor\n",
      "\n",
      "==================================================\n",
      "\n",
      "Best Params: {'max_depth': 10, 'min_samples_split': 5, 'n_estimators': 200}\n",
      "Validation MSE: 30557.37\n",
      "GridSearch Runtime: 28.3786 seconds\n",
      "Prediction Runtime: 0.0204 seconds\n",
      "Test MSE: 26354.29\n",
      "Test Prediction Runtime: 0.0214 seconds\n",
      "\n",
      "==================================================\n",
      "\n"
     ],
     "output_type":"stream"
    }
   ],
   "metadata":{
    "datalore":{
     "node_id":"kgv4uESDWkvYP7sTLuMbta",
     "type":"CODE",
     "hide_input_from_viewers":false,
     "hide_output_from_viewers":false,
     "report_properties":{
      "rowId":"XhTxrfHY3tEqcYLLuRU5Zr"
     }
    }
   }
  },
  {
   "cell_type":"markdown",
   "source":[
    "# Regressors Comparison of Custom Implementation vs Sklearn Models\n",
    "## Decision Tree Regressor\n",
    "\n",
    "| Metric                | Sklearn Decision Tree Regressor               | Custom Decision Tree Regressor       |\n",
    "|-----------------------|-----------------------------------------------|--------------------------------------|\n",
    "| **Best Params**       | min_samples_split: 10, max_depth: 10     | min_samples_split=10, max_depth=10   |\n",
    "| **Validation MSE**    | 39,725.41                                     | 37,619.28                            |\n",
    "| **Test MSE**          | 29,415.01                                     | 34,008.45                            |\n",
    "| **Total Runtime (s)** | 0.1236                                        | 29.24                                |\n",
    "\n",
    "\n",
    "## Random Forest Regressor\n",
    "\n",
    "| Metric                | Sklearn Random Forest Regressor                                 | Custom Random Forest Regressor          |\n",
    "|-----------------------|-----------------------------------------------------------------|-----------------------------------------|\n",
    "| **Best Params**       | n_estimators: 200 , min_samples_split: 5, max_depth: 10 | n_estimators=30, min_samples_split=10, max_depth=15 |\n",
    "| **Validation MSE**    | 30,557.37                                                       | 29,557.25                               |\n",
    "| **Test MSE**          | 26,354.29                                                       | 27,711.79                               |\n",
    "| **Total Runtime (s)** | 28.4204                                                         | 516.69                                  |\n",
    "\n",
    "## Comparison and Analysis\n",
    "\n",
    "### Decision Tree Regressor\n",
    "\n",
    "- **Validation MSE:**\n",
    "  The custom implementation has a slightly lower validation MSE compared to the sklearn implementation.\n",
    "- **Test MSE:**\n",
    "  The test MSE of the custom implementation is higher than that of the sklearn implementation.\n",
    "- **Runtime:**\n",
    "   The runtime for the custom implementation is significantly longer than the sklearn implementation, which could be due to optimizations in the sklearn library.\n",
    "\n",
    "### Random Forest Regressor\n",
    "\n",
    "- **Validation MSE:**\n",
    "   The custom implementation has a lower validation MSE compared to the sklearn implementation.\n",
    "- **Test MSE:**\n",
    "   The test MSE of the custom implementation is slightly higher than that of the sklearn implementation.\n",
    "- **Runtime:**\n",
    "   The runtime for the custom implementation is significantly longer than the sklearn implementation, which could be due to \n",
    "\n",
    "## Differences at runtime and conclusion\n",
    " **same as classification explanation above** (about scklearn algorithm, efficiency and memory managment)\n",
    "\n",
    "\n",
    "\n",
    "\n"
   ],
   "attachments":{},
   "metadata":{
    "datalore":{
     "node_id":"lf8LEuaId3hZT3RqZbkgoO",
     "type":"MD",
     "hide_input_from_viewers":true,
     "hide_output_from_viewers":true
    }
   }
  },
  {
   "cell_type":"markdown",
   "source":[
    "# Final Comparisons Conclusion\n",
    "Our implementations of the Decision Tree and Random Forest Classifiers and Regressors exhibit competitive performance compared to the sklearn implementations, with slightly better validation metrics in some cases.\n",
    "**However, this might be influenced by several factors:**\n",
    "\n",
    "### Overfitting\n",
    "- The custom implementations may overfit the training data, leading to better performance on the validation set but not necessarily generalizing well to the test set.\n",
    "- Overfitting can occur when the models capture noise and fluctuations in the training data, which do not represent the underlying data distribution.\n",
    "\n",
    "### Data Splitting Strategy\n",
    "- The data was divided into training, validation, and test sets in advance, rather than using cross-validation.\n",
    "\n",
    "### Information Gain and Splitting Criteria\n",
    "- Our Decision Tree implementations use the Gini index for splitting, which might result in different splits compared to sklearn’s implementation.\n",
    "- Small differences in splitting criteria can lead to variations in tree structure and performance.\n",
    "\n",
    "### Model Complexity\n",
    "- The parameters for `min_samples_split` and `max_depth` control the complexity of the Decision Tree. Our chosen parameters may lead to a model that fits the training data well but could potentially overfit without proper cross-validation.\n",
    "- For Random Forest, the number of trees (`n_estimators`) and the parameters for each tree can impact the model’s ability to generalize.\n",
    "\n",
    "### Randomness in Data Splitting\n",
    "- The initial random split of data into training, validation, and test sets can influence the performance metrics.\n",
    "- The specific characteristics of the split data can make the models appear more or less effective.\n",
    "\n",
    "### Summary\n",
    "\n",
    "Our custom implementations of the Decision Tree and Random Forest Classifiers and Regressors show promising results but need further validation through cross-validation to ensure they generalize well to new data. By addressing potential overfitting and refining the models through regularization and better validation techniques, we can improve their robustness and reliability."
   ],
   "attachments":{},
   "metadata":{
    "datalore":{
     "node_id":"Go8HSEGC8KyPz5F204q6yl",
     "type":"MD",
     "hide_input_from_viewers":true,
     "hide_output_from_viewers":true
    }
   }
  },
  {
   "cell_type":"markdown",
   "source":[
    "# Section E - Bonus\n",
    "# Pt.1 - Screen Resolution\n",
    " **Data Prep** - Splitting the Resolution column into Height and Width:"
   ],
   "attachments":{},
   "metadata":{
    "datalore":{
     "node_id":"cPEc48zRiI1mTeKfSHrPQv",
     "type":"MD",
     "hide_input_from_viewers":false,
     "hide_output_from_viewers":false,
     "report_properties":{
      "rowId":"jtkHdAiOmLWR2RRkBCg782"
     }
    }
   }
  },
  {
   "cell_type":"code",
   "source":[
    "#data for section e\n",
    "# Split the Resolution column into Height and Width\n",
    "def split_resolution(resolution):\n",
    "    try:\n",
    "        width, height = map(int, resolution.split(' x '))\n",
    "        return width, height\n",
    "    except ValueError:\n",
    "        return 0, 0  # Handle any unexpected values\n",
    "\n",
    "data[['Width', 'Height']] = data['Resolution'].apply(lambda x: pd.Series(split_resolution(x)))\n",
    "data[['Width', 'Height']] = data[['Width', 'Height']].replace(0, np.nan)\n",
    "imputer = KNNImputer(n_neighbors=5)\n",
    "\n",
    "# Apply KNN imputer only on the 'Width' and 'Height' columns\n",
    "data[['Width', 'Height']] = imputer.fit_transform(data[['Width', 'Height']])\n",
    "\n",
    "\n",
    "features_e_class = ['Brand', 'Screen_Size', 'RAM', 'Processor', 'GPU', 'GPU_Type','Width', 'Height', 'Price']\n",
    "X_e = data[features_e_class].values\n",
    "y_e = data['Condition'].values\n",
    "\n",
    "X_train_e = X_e[:2058]\n",
    "y_train_e = y_e[:2058]\n",
    "X_val_e = X_e[2058:2499]\n",
    "y_val_e = y_e[2058:2499]\n",
    "X_test_e = X_e[2499:]\n",
    "y_test_e = y_e[2499:]\n",
    "\n",
    "y_train_e = y_train_e.reshape(-1, 1)\n",
    "y_val_e = y_val_e.reshape(-1, 1)\n",
    "y_test_e = y_test_e.reshape(-1, 1)\n",
    "\n",
    "\n",
    "\n",
    "#data for the regresor\n",
    "df[['Width', 'Height']] = df['Resolution'].apply(lambda x: pd.Series(split_resolution(x)))\n",
    "df[['Width', 'Height']] = df[['Width', 'Height']].replace(0, np.nan)\n",
    "imputer = KNNImputer(n_neighbors=5)\n",
    "\n",
    "# Apply KNN imputer only on the 'Width' and 'Height' columns\n",
    "df[['Width', 'Height']] = imputer.fit_transform(df[['Width', 'Height']])\n",
    "features_e_reg = ['Brand', 'Screen_Size', 'RAM', 'Processor', 'GPU', 'GPU_Type', 'Width', 'Height', 'Condition', 'Price']\n",
    "df[features_e_reg] = knn_imputer.fit_transform(df[features_e_reg])\n",
    "\n",
    "\n",
    "X_reg_e = df[['Brand', 'Screen_Size', 'RAM', 'Processor', 'GPU', 'GPU_Type',  'Width', 'Height', 'Condition']].values\n",
    "y_reg_e = df['Price'].values \n",
    "\n",
    "X_train_reg_e = X_reg_e[:2058]\n",
    "y_train_reg_e = y_reg_e[:2058]\n",
    "X_val_reg_e = X_reg_e[2058:2499]\n",
    "y_val_reg_e = y_reg_e[2058:2499]\n",
    "X_test_reg_e = X_reg_e[2499:]\n",
    "y_test_reg_e = y_reg_e[2499:]\n"
   ],
   "execution_count":17,
   "outputs":[],
   "metadata":{
    "datalore":{
     "node_id":"Nt4DsJIfHQ29S8rdtTKYQv",
     "type":"CODE",
     "hide_input_from_viewers":false,
     "hide_output_from_viewers":false,
     "report_properties":{
      "rowId":"7xAm5aC0qhPTrgREhdfaQh"
     }
    }
   }
  },
  {
   "cell_type":"markdown",
   "source":[
    "## Decision Tree Classifiers and Regressors \n",
    "### implementation on new data"
   ],
   "attachments":{},
   "metadata":{
    "datalore":{
     "node_id":"aqoz5zy8pzvpmGmDIpwxKy",
     "type":"MD",
     "hide_input_from_viewers":true,
     "hide_output_from_viewers":true
    }
   }
  },
  {
   "cell_type":"code",
   "source":[
    "print(\"new data classifire tree\")\n",
    "\n",
    "temp1, temp2, temp3, temp4, temp5 = train_evaluate_and_tune_decision_tree(X_train, y_train, X_val, y_val, X_test, y_test)\n",
    "print(\"new data regressor tree\")\n",
    "\n",
    "temp6, temp7, temp8, temp9, temp10 = train_evaluate_and_tune_decision_tree_regressor(X_train_reg, y_train_reg, X_val_reg, y_val_reg, X_test_reg, y_test_reg)"
   ],
   "execution_count":24,
   "outputs":[
    {
     "name":"stdout",
     "text":[
      "new data classifire tree\n",
      "Initial Validation Accuracy: 81.41%\n",
      "Accuracy: 81.18%, Params: min_samples_split=2, max_depth=10\n",
      "Accuracy: 79.82%, Params: min_samples_split=2, max_depth=15\n",
      "Accuracy: 80.95%, Params: min_samples_split=2, max_depth=20\n",
      "Accuracy: 80.95%, Params: min_samples_split=5, max_depth=10\n",
      "Accuracy: 80.05%, Params: min_samples_split=5, max_depth=15\n",
      "Accuracy: 80.95%, Params: min_samples_split=5, max_depth=20\n",
      "Accuracy: 82.31%, Params: min_samples_split=10, max_depth=10\n",
      "Accuracy: 81.41%, Params: min_samples_split=10, max_depth=15\n",
      "Accuracy: 82.31%, Params: min_samples_split=10, max_depth=20\n",
      "Best parameters: min_samples_split=10, max_depth=10\n",
      "Best Validation Accuracy: 82.31%\n",
      "Test Accuracy: 78.86%\n",
      "Total runtime: 274.36 seconds\n",
      "new data regressor tree\n",
      "Initial Validation MSE: 37623.63\n",
      "MSE: 48272.86, Params: min_samples_split=2, max_depth=10\n",
      "MSE: 48682.71, Params: min_samples_split=2, max_depth=15\n",
      "MSE: 48682.71, Params: min_samples_split=2, max_depth=20\n",
      "MSE: 43830.18, Params: min_samples_split=5, max_depth=10\n",
      "MSE: 43799.17, Params: min_samples_split=5, max_depth=15\n",
      "MSE: 43799.17, Params: min_samples_split=5, max_depth=20\n",
      "MSE: 37619.28, Params: min_samples_split=10, max_depth=10\n",
      "MSE: 37623.63, Params: min_samples_split=10, max_depth=15\n",
      "MSE: 37623.63, Params: min_samples_split=10, max_depth=20\n",
      "Best parameters: min_samples_split=10, max_depth=10\n",
      "Best Validation MSE: 37619.28\n",
      "Test MSE: 34008.45\n",
      "Total runtime: 29.19 seconds\n"
     ],
     "output_type":"stream"
    }
   ],
   "metadata":{
    "datalore":{
     "node_id":"e0ZC3FafrlsoSi9ZbAJvIe",
     "type":"CODE",
     "hide_input_from_viewers":true,
     "hide_output_from_viewers":true
    }
   }
  },
  {
   "cell_type":"markdown",
   "source":[
    "## Random Forest Classifiers and Regressors \n",
    "### implementation on new data"
   ],
   "attachments":{},
   "metadata":{
    "datalore":{
     "node_id":"Pu9m3GjBLGNCvsNwskqbIR",
     "type":"MD",
     "hide_input_from_viewers":true,
     "hide_output_from_viewers":true
    }
   }
  },
  {
   "cell_type":"code",
   "source":[
    "import numpy as np\n",
    "from sklearn.metrics import mean_squared_error, accuracy_score\n",
    "\n",
    "# Classifier Example\n",
    "print(\"Classifier forest with new data\")\n",
    "rf_model = RandomForestClassifier(n_estimators=30, min_samples_split=2, max_depth=15)\n",
    "rf_model.fit(X_train_e, y_train_e.flatten())\n",
    "y_val_pred = rf_model.predict(X_test_e)\n",
    "accuracy = accuracy_score(y_test_e.flatten(), y_val_pred)\n",
    "print(f\"Test Accuracy: {accuracy * 100:.2f}%\")\n",
    "\n",
    "# Regressor Example\n",
    "print(\"Regressor forest with new data\")\n",
    "random_forest_model_e2 = RandomForestRegressor(n_estimators=30, min_samples_split=10, max_depth=15)\n",
    "random_forest_model_e2.fit(X_train_reg_e, y_train_reg_e)\n",
    "y_test_pred_forest = random_forest_model_e2.predict(X_test_reg_e)\n",
    "mse_forest_e2 = mean_squared_error(y_test_reg_e, y_test_pred_forest)\n",
    "print(f\"Random Forest Regressor Test Mean Squared Error: {mse_forest_e2:.2f}\")"
   ],
   "execution_count":23,
   "outputs":[
    {
     "name":"stdout",
     "text":[
      "Classifier forest with new data\n",
      "Test Accuracy: 85.23%\n",
      "Regressor forest with new data\n",
      "Random Forest Regressor Test Mean Squared Error: 28236.17\n"
     ],
     "output_type":"stream"
    }
   ],
   "metadata":{
    "datalore":{
     "node_id":"37MWBk6bhtlB45jhWFZTJM",
     "type":"CODE",
     "hide_input_from_viewers":true,
     "hide_output_from_viewers":true
    }
   }
  },
  {
   "cell_type":"markdown",
   "source":[
    "## Results Comparison\n",
    "\n",
    "| Model                | Metric        | New Data  | Original Data |\n",
    "|----------------------|---------------|-----------|---------------|\n",
    "| Tree Classifier      | Accuracy (%)  | 78.86     | 78.86         |\n",
    "| Tree Regressor       | Value         | 34008.45  | 34008.45      |\n",
    "| Forest Classifier    | Accuracy (%)  | 85.23     | 84.09         |\n",
    "| Forest Regressor     | Value         | 28236.17  | 277141.79     |\n",
    "\n",
    "## Overall Discussion\n",
    "#### As we can see, there are no significant differences between the results:\n",
    " As we explained at SECTION B, we used resolution as \"total pixels\" instead of categorizing it while we prepared the data. \n",
    " - Simply placing the data into two different features does not alter our original approach results.\n",
    "\n"
   ],
   "attachments":{},
   "metadata":{
    "datalore":{
     "node_id":"FwkWDiDsZIituZyP8TngAa",
     "type":"MD",
     "hide_input_from_viewers":true,
     "hide_output_from_viewers":true
    }
   }
  },
  {
   "cell_type":"markdown",
   "source":[
    "# Pt.2 - Random Forest Regression Test | Using **Median**"
   ],
   "attachments":{},
   "metadata":{
    "datalore":{
     "node_id":"YBWiE5hxCxqk2Iads5HzMX",
     "type":"MD",
     "hide_input_from_viewers":false,
     "hide_output_from_viewers":false,
     "report_properties":{
      "rowId":"bu87MZXwUeM5BA7rZ3qXIP"
     }
    }
   }
  },
  {
   "cell_type":"code",
   "source":[
    "class RandomForestRegressor_median():\n",
    "    def __init__(self, n_estimators=100, min_samples_split=2, max_depth=2):\n",
    "        self.n_estimators = n_estimators\n",
    "        self.min_samples_split = min_samples_split\n",
    "        self.max_depth = max_depth\n",
    "        self.trees = []\n",
    "    \n",
    "    def fit(self, X, Y):\n",
    "        self.trees = []\n",
    "        for _ in range(self.n_estimators):\n",
    "            X_sample, Y_sample = self.bootstrap_sample(X, Y)\n",
    "            tree = DecisionTreeRegressor(\n",
    "                min_samples_split=self.min_samples_split, \n",
    "                max_depth=self.max_depth\n",
    "            )\n",
    "            tree.fit(X_sample, Y_sample)\n",
    "            self.trees.append(tree)\n",
    "    \n",
    "    def bootstrap_sample(self, X, Y):\n",
    "        n_samples = X.shape[0]\n",
    "        indices = np.random.choice(n_samples, n_samples, replace=True)\n",
    "        return X[indices], Y[indices]\n",
    "    \n",
    "    def predict(self, X):\n",
    "        tree_preds = np.array([tree.predict(X) for tree in self.trees])\n",
    "        # Compute the median of the predictions for regression\n",
    "        y_pred = np.median(tree_preds, axis=0)\n",
    "        return y_pred"
   ],
   "execution_count":107,
   "outputs":[],
   "metadata":{
    "datalore":{
     "node_id":"5XeR9hhJtavBYvKBLGYSHK",
     "type":"CODE",
     "hide_input_from_viewers":false,
     "hide_output_from_viewers":false,
     "report_properties":{
      "rowId":"RYMEx0cCL1blCylNSR079G"
     }
    }
   }
  },
  {
   "cell_type":"code",
   "source":[
    "#simple activation\n",
    "import numpy as np\n",
    "from sklearn.metrics import mean_squared_error\n",
    "\n",
    "random_forest_model = RandomForestRegressor_median(n_estimators=30, min_samples_split=2, max_depth=5)\n",
    "random_forest_model.fit(X_train_reg, y_train_reg)\n",
    "y_test_pred_forest = random_forest_model.predict(X_test_reg)\n",
    "mse_forest = mean_squared_error(y_test_reg, y_test_pred_forest)\n",
    "print(f\"Random Forest Regressor Test Mean Squared Error: {mse_forest:.2f}\")"
   ],
   "execution_count":70,
   "outputs":[
    {
     "name":"stdout",
     "text":[
      "Random Forest Regressor Test Mean Squared Error: 30012.58\n"
     ],
     "output_type":"stream"
    }
   ],
   "metadata":{
    "datalore":{
     "node_id":"yMv0cvcSqAC6uNX8kQPrFT",
     "type":"CODE",
     "hide_input_from_viewers":true,
     "hide_output_from_viewers":true
    }
   }
  },
  {
   "cell_type":"markdown",
   "source":[
    "# Conclusion\n",
    "As we can see when we are using **Mean** in the random forest we are getting\n",
    "a score of **Test MSE: 27711.19**\n",
    "\n",
    "When using the **Median** we are getting **Test MSE: 30012.58**  \n",
    "\n",
    "Using the mean in a Random Forest Regressor typically results in better performance than using the median due to its ability to reduce variance by averaging all the predictions from the individual trees.\n",
    "This averaging effect leverages the strengths of all trees, providing a more accurate and stable prediction. \n",
    "\n",
    "While the median offers robustness against outliers, it tends to ignore useful variations among predictions, leading to higher Mean Squared Error (MSE) as observed in our results (Mean: 27711.19 vs. Median: 30012.58).\n",
    "\n",
    "Therefore, the mean is generally preferred for aggregating predictions in Random Forest Regressors.\n",
    "\n",
    "\n",
    " "
   ],
   "attachments":{},
   "metadata":{
    "datalore":{
     "node_id":"6ulqiMwy8abIwSDDvdYTYy",
     "type":"MD",
     "hide_input_from_viewers":true,
     "hide_output_from_viewers":true
    }
   }
  },
  {
   "cell_type":"markdown",
   "source":[
    "# Pt.3 - Classification Metric\n",
    "## calculating confusion matrix:\n",
    " sensitivity | specificity | Precision | F1 | Accuracy"
   ],
   "attachments":{},
   "metadata":{
    "datalore":{
     "node_id":"SGUyyq6uYFGXIKbeVxDPXu",
     "type":"MD",
     "hide_input_from_viewers":true,
     "hide_output_from_viewers":true
    }
   }
  },
  {
   "cell_type":"code",
   "source":[
    "from sklearn.metrics import confusion_matrix, precision_score, recall_score, f1_score, accuracy_score\n",
    "from sklearn.metrics import mean_squared_error, mean_absolute_error, r2_score\n",
    "\n",
    "def calculate_metrics(y_true, y_pred):\n",
    "    tn, fp, fn, tp = confusion_matrix(y_true, y_pred).ravel()\n",
    "    sensitivity = tp \/ (tp + fn)  # Recall\n",
    "    specificity = tn \/ (tn + fp)\n",
    "    precision = precision_score(y_true, y_pred)\n",
    "    f1 = f1_score(y_true, y_pred)\n",
    "    accuracy = accuracy_score(y_true, y_pred)\n",
    "    return sensitivity, specificity, precision, f1, accuracy\n",
    "\n",
    "\n",
    "def calculate_regression_metrics(y_true, y_pred):\n",
    "    mse = mean_squared_error(y_true, y_pred)\n",
    "    mae = mean_absolute_error(y_true, y_pred)\n",
    "    r2 = r2_score(y_true, y_pred)\n",
    "    return mse, mae, r2"
   ],
   "execution_count":26,
   "outputs":[],
   "metadata":{
    "datalore":{
     "node_id":"N9BXZmporKhcKK22JWtcaM",
     "type":"CODE",
     "hide_input_from_viewers":false,
     "hide_output_from_viewers":false,
     "report_properties":{
      "rowId":"0a25ImAqECOa7SIlRKB4Gu"
     }
    }
   }
  },
  {
   "cell_type":"markdown",
   "source":[
    "### Decision Tree Classifier"
   ],
   "attachments":{},
   "metadata":{
    "datalore":{
     "node_id":"VRX95TBcplqAbm8LDiHuaF",
     "type":"MD",
     "hide_input_from_viewers":true,
     "hide_output_from_viewers":true
    }
   }
  },
  {
   "cell_type":"code",
   "source":[
    "# Calculate metrics for Decision Tree\n",
    "sensitivity_dt, specificity_dt, precision_dt, f1_dt, accuracy_dt = calculate_metrics(y_test, y_test_pred_dt)\n",
    "# printing\n",
    "print(\"\\nDecision Tree Metrics:\")\n",
    "print(\"======================\")\n",
    "print(f\"Sensitivity (Recall): {sensitivity_dt:.2f}\")\n",
    "print(f\"Specificity         : {specificity_dt:.2f}\")\n",
    "print(f\"Precision           : {precision_dt:.2f}\")\n",
    "print(f\"F1 Score            : {f1_dt:.2f}\")\n",
    "print(f\"Accuracy            : {accuracy_dt:.2f}\")"
   ],
   "execution_count":30,
   "outputs":[
    {
     "name":"stdout",
     "text":[
      "\n",
      "Decision Tree Metrics:\n",
      "======================\n",
      "Sensitivity (Recall): 0.82\n",
      "Specificity         : 0.74\n",
      "Precision           : 0.83\n",
      "F1 Score            : 0.82\n",
      "Accuracy            : 0.79\n"
     ],
     "output_type":"stream"
    }
   ],
   "metadata":{
    "datalore":{
     "node_id":"xdJhUrRg2IbTEmO71kZ3mc",
     "type":"CODE",
     "hide_input_from_viewers":true,
     "hide_output_from_viewers":true
    }
   }
  },
  {
   "cell_type":"markdown",
   "source":[
    "### Random Forest Classifier"
   ],
   "attachments":{},
   "metadata":{
    "datalore":{
     "node_id":"VN4QguZfr6n78F2DxTiw1U",
     "type":"MD",
     "hide_input_from_viewers":true,
     "hide_output_from_viewers":true
    }
   }
  },
  {
   "cell_type":"code",
   "source":[
    "# Calculate metrics for Random Forest\n",
    "sensitivity_rf, specificity_rf, precision_rf, f1_rf, accuracy_rf = calculate_metrics(y_test, y_test_pred_rf)\n",
    "#  printing\n",
    "print(\"\\nRandom Forest Metrics:\")\n",
    "print(\"=======================\")\n",
    "print(f\"Sensitivity (Recall): {sensitivity_rf:.2f}\")\n",
    "print(f\"Specificity         : {specificity_rf:.2f}\")\n",
    "print(f\"Precision           : {precision_rf:.2f}\")\n",
    "print(f\"F1 Score            : {f1_rf:.2f}\")\n",
    "print(f\"Accuracy            : {accuracy_rf:.2f}\")"
   ],
   "execution_count":141,
   "outputs":[
    {
     "name":"stdout",
     "text":[
      "\n",
      "Random Forest Metrics:\n",
      "=======================\n",
      "Sensitivity (Recall): 0.85\n",
      "Specificity         : 0.83\n",
      "Precision           : 0.88\n",
      "F1 Score            : 0.87\n",
      "Accuracy            : 0.84\n"
     ],
     "output_type":"stream"
    }
   ],
   "metadata":{
    "datalore":{
     "node_id":"NVXSP1D2PAjWvou1fcMrS4",
     "type":"CODE",
     "hide_input_from_viewers":true,
     "hide_output_from_viewers":true
    }
   }
  },
  {
   "cell_type":"markdown",
   "source":[
    "# Discussion\n",
    "### Analysis of Classifier Performance\n",
    "\n",
    "#### Metrics Comparison\n",
    "\n",
    "| Metric               | Random Forest | Decision Tree |\n",
    "|----------------------|---------------|---------------|\n",
    "| Sensitivity (Recall) | 0.85          | 0.82          |\n",
    "| Specificity          | 0.83          | 0.74          |\n",
    "| Precision            | 0.88          | 0.83          |\n",
    "| F1 Score             | 0.87          | 0.82          |\n",
    "| Accuracy             | 0.84          | 0.79          |\n",
    "\n",
    "**While the Random Forest model outperforms the Decision Tree model in all metrics, the difference is not drastic.**\n",
    "#### Differences and Possible Explanations:\n",
    "\n",
    "1. **Higher Specificity in Random Forest:**\n",
    " Random Forests are ensemble methods that aggregate the predictions of multiple decision trees. This aggregation helps reduce overfitting and provides a more generalized model. Decision Trees, being a single model, are more prone to overfitting, which can reduce their performance on unseen data, particularly affecting specificity.\n",
    "Higher specificity in Random Forest means it is better at correctly identifying negative cases compared to the Decision Tree.\n",
    "\n",
    "2. **Higher Precision in Random Forest:**\n",
    " Precision is influenced by the number of false positives. Random Forest, with its ensemble nature, tends to reduce the variance of the model, leading to fewer false positives and hence higher precision.\n",
    "Higher precision indicates that when Random Forest predicts a positive case, it is more likely to be correct than the Decision Tree.\n",
    "\n",
    "3. **Higher F1 Score in Random Forest:**\n",
    " The F1 Score is the harmonic mean of precision and recall. Given that Random Forest has higher precision and slightly higher recall, its F1 Score is also higher.\n",
    " A higher F1 Score means the Random Forest model balances precision and recall better than the Decision Tree.\n",
    "\n",
    "4. **Higher Accuracy in Random Forest:**\n",
    "The combination of higher precision, recall, and specificity leads to better overall accuracy for the Random Forest.\n",
    " Higher accuracy indicates that the Random Forest model is better at correctly classifying both positive and negative cases overall.\n",
    "\n",
    "#### Suggested Methods to Improve Scores\n",
    "\n",
    "1. **Hyperparameter Tuning:**\n",
    " If we had a better Machine, we could enlarge Hyperparameter and find the optimal parameters for the Decision Tree and Random Forest models.\n",
    "\n",
    "2. **Feature Engineering:**\n",
    "  Create new features or transform existing ones to provide more relevant information to the models.\n",
    "  Better features can help the model learn more effectively and improve its ability to generalize.\n",
    "\n",
    "3. **Ensemble Methods:**\n",
    " Combine the predictions of multiple models using techniques like bagging, boosting, or stacking.\n",
    "   Ensemble methods can leverage the strengths of different models to improve overall performance.\n",
    "\n",
    "4. **Regularization Techniques:**\n",
    "   Implement techniques like pruning in Decision Trees or adding constraints to Random Forest models.\n",
    "    Regularization helps reduce overfitting by penalizing model complexity, leading to better generalization.\n",
    "\n",
    "5. **Cross-Validation:**\n",
    "  We Could use cross-validation to evaluate the models more robustly.\n",
    "   Cross-validation provides a more accurate estimate of model performance by averaging results over multiple splits, reducing the risk of overfitting to a particular train-test split.\n",
    "\n"
   ],
   "attachments":{},
   "metadata":{
    "datalore":{
     "node_id":"iGhf5PYtveT4gkn47FgXM1",
     "type":"MD",
     "hide_input_from_viewers":true,
     "hide_output_from_viewers":true
    }
   }
  },
  {
   "cell_type":"markdown",
   "source":[
    "### ***We also checked Regression Metrics for fun:***"
   ],
   "attachments":{},
   "metadata":{
    "datalore":{
     "node_id":"AieoJ0w97AScHekT6zBi53",
     "type":"MD",
     "hide_input_from_viewers":true,
     "hide_output_from_viewers":true
    }
   }
  },
  {
   "cell_type":"markdown",
   "source":[
    "### Decision Tree Regressor"
   ],
   "attachments":{},
   "metadata":{
    "datalore":{
     "node_id":"uMypue7snKpoRLKj9XKGsl",
     "type":"MD",
     "hide_input_from_viewers":true,
     "hide_output_from_viewers":true
    }
   }
  },
  {
   "cell_type":"code",
   "source":[
    "# Calculate metrics for Decision Tree Regressor\n",
    "mse_dtr, mae_dtr, r2_dtr = calculate_regression_metrics(y_test_reg, y_test_pred_dtr)\n",
    "# printing \n",
    "print(\"\\nDecision Tree Regressor Metrics:\")\n",
    "print(\"===============================\")\n",
    "print(f\"MSE                : {mse_dtr:.2f}\")\n",
    "print(f\"MAE                : {mae_dtr:.2f}\")\n",
    "print(f\"R²                 : {r2_dtr:.2f}\")"
   ],
   "execution_count":153,
   "outputs":[
    {
     "name":"stdout",
     "text":[
      "\n",
      "Decision Tree Regressor Metrics:\n",
      "===============================\n",
      "MSE                : 34816.87\n",
      "MAE                : 132.45\n",
      "R²                 : 0.38\n"
     ],
     "output_type":"stream"
    }
   ],
   "metadata":{
    "datalore":{
     "node_id":"qXx0Bqd7JaD5KQsAlLyD7x",
     "type":"CODE",
     "hide_input_from_viewers":true,
     "hide_output_from_viewers":true
    }
   }
  },
  {
   "cell_type":"markdown",
   "source":[
    "### Random Forest Regressor"
   ],
   "attachments":{},
   "metadata":{
    "datalore":{
     "node_id":"Zq6IlMCzbvrGj17Bss7b6Z",
     "type":"MD",
     "hide_input_from_viewers":true,
     "hide_output_from_viewers":true
    }
   }
  },
  {
   "cell_type":"code",
   "source":[
    "# Calculate metrics for Random Forest Regressor\n",
    "mse_rfr, mae_rfr, r2_rfr = calculate_regression_metrics(y_test_reg, y_test_pred_rfr)\n",
    "#  printing \n",
    "print(\"\\nRandom Forest Regressor Metrics:\")\n",
    "print(\"===============================\")\n",
    "print(f\"MSE                : {mse_rfr:.2f}\")\n",
    "print(f\"MAE                : {mae_rfr:.2f}\")\n",
    "print(f\"R²                 : {r2_rfr:.2f}\")"
   ],
   "execution_count":27,
   "outputs":[
    {
     "name":"stdout",
     "text":[
      "\n",
      "Random Forest Regressor Metrics:\n",
      "===============================\n",
      "MSE                : 26354.29\n",
      "MAE                : 118.24\n",
      "R²                 : 0.53\n"
     ],
     "output_type":"stream"
    }
   ],
   "metadata":{
    "datalore":{
     "node_id":"QCfNxmm9o4HHwBj9hYJPiP",
     "type":"CODE",
     "hide_input_from_viewers":true,
     "hide_output_from_viewers":true
    }
   }
  }
 ],
 "metadata":{
  "kernelspec":{
   "display_name":"Python",
   "language":"python",
   "name":"python"
  },
  "datalore":{
   "computation_mode":"JUPYTER",
   "package_manager":"pip",
   "base_environment":"default",
   "packages":[],
   "report_row_ids":[
    "9QCl9NWsZmT5PyVfRb1plX",
    "H3ny8LznMC9Nt1NATKNZuW",
    "mVDBAMPYioQVVZkAMsVjAx",
    "BSpBLfbEUkrLv5mTeiiKJF",
    "4o7GWyZHV3IwoIXINSpHoM",
    "DoW8B8FcICTtbgnDcquSNX",
    "Vc1fRc3L7OmVhgnPUjwqwN",
    "ADw09kuYrpwo9hX4CRHa6R",
    "i9bbxF7IQmMm9IVye3WaCs",
    "DBkC2dWPoUbYK5bDgCH5Q7",
    "J5Ne3BPGLcXkfAJ6Zl6sfT",
    "wc9bnBXpUfl5tOGHCbSW93",
    "fjT8YUxyxYcxP8h5X7HoyX",
    "jvE9rwJX3SoLxajK8tjsPn",
    "eWyvi224ImDFl0yr8Sihm2",
    "5qSitkJF5G5Dt1Beow0Aic",
    "LM0KZE3usGXMiQIaraB1ek",
    "i7khElS7qTCIMWITMxTJ0d",
    "eoIzLiA5SRhRUWvM4AIAPh",
    "2ba3039yMz7Vay4PdX9U2H",
    "T5oqe7t9vFa7B3zYmB10Lr",
    "xdOS0pVvSRIuE1moGiTS2v",
    "h2vSzSYiLQjkdLCnL1pcZu",
    "wYvnc8AQICXnkZZmSnPXUI",
    "n5DE3PbwVRtMr1fgrcrq8T",
    "XhTxrfHY3tEqcYLLuRU5Zr",
    "fm37Sh6mZ0DqtosrjuPBwM",
    "jtkHdAiOmLWR2RRkBCg782",
    "7xAm5aC0qhPTrgREhdfaQh",
    "OnHj9m5yVvSyq0xoqcBPYN",
    "bu87MZXwUeM5BA7rZ3qXIP",
    "RYMEx0cCL1blCylNSR079G",
    "0a25ImAqECOa7SIlRKB4Gu"
   ],
   "version":3
  }
 },
 "nbformat":4,
 "nbformat_minor":4
}